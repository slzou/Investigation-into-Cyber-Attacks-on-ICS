{
 "cells": [
  {
   "cell_type": "code",
   "execution_count": 108,
   "metadata": {},
   "outputs": [],
   "source": [
    "import pandas as pd\n",
    "import numpy as np\n",
    "from sklearn.model_selection import train_test_split\n",
    "import math\n",
    "import matplotlib.pyplot as plt\n",
    "from sklearn.preprocessing import StandardScaler\n",
    "from sklearn.ensemble import RandomForestClassifier\n",
    "from sklearn.metrics import confusion_matrix\n",
    "from sklearn.preprocessing import MinMaxScaler"
   ]
  },
  {
   "cell_type": "markdown",
   "metadata": {},
   "source": [
    "## Read Files"
   ]
  },
  {
   "cell_type": "code",
   "execution_count": 124,
   "metadata": {},
   "outputs": [],
   "source": [
    "d1 = pd.read_csv('C:/Users/seeml/Desktop/summer_project/o1.csv',error_bad_lines = False, sep=\",\")\n",
    "d2 = pd.read_csv('C:/Users/seeml/Desktop/summer_project/o2.csv',error_bad_lines = False, sep=\",\")\n",
    "\n",
    "df = pd.concat([d1,d2],ignore_index=True)#[70000:]"
   ]
  },
  {
   "cell_type": "code",
   "execution_count": 125,
   "metadata": {},
   "outputs": [],
   "source": [
    "# get the index of Tag value changes\n",
    "Tag = df['Tag'].values.tolist()\n",
    "\n",
    "index = np.where(np.roll(Tag,1) != Tag)[0]\n",
    "# get the time of attack begins or stops\n",
    "att_time = df['sec'][index]"
   ]
  },
  {
   "cell_type": "code",
   "execution_count": 133,
   "metadata": {
    "scrolled": true
   },
   "outputs": [
    {
     "name": "stderr",
     "output_type": "stream",
     "text": [
      "C:\\Users\\seeml\\Anaconda3\\lib\\site-packages\\sklearn\\utils\\validation.py:595: DataConversionWarning: Data with input dtype int64 was converted to float64 by MinMaxScaler.\n",
      "  warnings.warn(msg, DataConversionWarning)\n"
     ]
    }
   ],
   "source": [
    "#ip pair(‘192.168.1.60’, ‘192.168.1.20’)\n",
    "#standarize the data and split the data into train and test\n",
    "x1=df['ip2'].values\n",
    "x1=x1.reshape(-1,1)\n",
    "scaler = MinMaxScaler(feature_range=(0, 1))\n",
    "x1 = scaler.fit_transform(x1)\n",
    "train_size = int(len(x1) * 0.4)\n",
    "test_size = len(x1) - train_size\n",
    "train, test = x1[0:train_size,:], x1[train_size:len(x1),:]"
   ]
  },
  {
   "cell_type": "markdown",
   "metadata": {},
   "source": [
    "# LSTM MODEL for the number of connections of IP pair"
   ]
  },
  {
   "cell_type": "code",
   "execution_count": 134,
   "metadata": {},
   "outputs": [
    {
     "name": "stdout",
     "output_type": "stream",
     "text": [
      "Epoch 1/20\n",
      " - 11s - loss: 0.0217\n",
      "Epoch 2/20\n",
      " - 4s - loss: 0.0014\n",
      "Epoch 3/20\n",
      " - 5s - loss: 0.0013\n",
      "Epoch 4/20\n",
      " - 5s - loss: 0.0013\n",
      "Epoch 5/20\n",
      " - 4s - loss: 0.0013\n",
      "Epoch 6/20\n",
      " - 4s - loss: 0.0013\n",
      "Epoch 7/20\n",
      " - 5s - loss: 0.0013\n",
      "Epoch 8/20\n",
      " - 4s - loss: 0.0013\n",
      "Epoch 9/20\n",
      " - 4s - loss: 0.0012\n",
      "Epoch 10/20\n",
      " - 4s - loss: 0.0012\n",
      "Epoch 11/20\n",
      " - 5s - loss: 0.0012\n",
      "Epoch 12/20\n",
      " - 4s - loss: 0.0012\n",
      "Epoch 13/20\n",
      " - 4s - loss: 0.0012\n",
      "Epoch 14/20\n",
      " - 5s - loss: 0.0012\n",
      "Epoch 15/20\n",
      " - 4s - loss: 0.0012\n",
      "Epoch 16/20\n",
      " - 4s - loss: 0.0012\n",
      "Epoch 17/20\n",
      " - 4s - loss: 0.0012\n",
      "Epoch 18/20\n",
      " - 5s - loss: 0.0012\n",
      "Epoch 19/20\n",
      " - 5s - loss: 0.0012\n",
      "Epoch 20/20\n",
      " - 4s - loss: 0.0012\n"
     ]
    },
    {
     "data": {
      "text/plain": [
       "<keras.callbacks.History at 0x1bf3c240cf8>"
      ]
     },
     "execution_count": 134,
     "metadata": {},
     "output_type": "execute_result"
    }
   ],
   "source": [
    "import matplotlib.pyplot as plt\n",
    "import time\n",
    "import csv\n",
    "from keras.models import Sequential\n",
    "from keras.layers.core import Dense, Activation, Dropout\n",
    "from keras.layers.recurrent import LSTM\n",
    "np.random.seed(2019)\n",
    "# convert an array of values into a dataset matrix\n",
    "def create_dataset(dataset, look_back):\n",
    "\n",
    "    dataX, dataY = [], []\n",
    "    for i in range(len(dataset)-look_back-1):\n",
    "        a = dataset[i:(i+look_back)]\n",
    "        dataX.append(a)\n",
    "        dataY.append(dataset[i + look_back])\n",
    "    #import pdb; pdb.set_trace()\n",
    "    return np.array(dataX),np.array(dataY)\n",
    "\n",
    "look_back = 50\n",
    "trainX,trainY  = create_dataset(train,look_back)\n",
    "testX, testY = create_dataset(test, look_back)\n",
    "\n",
    "\n",
    "\n",
    "trainX = np.reshape(trainX, (trainX.shape[0], 1,trainX.shape[1]))\n",
    "testX = np.reshape(testX, (testX.shape[0], 1,testX.shape[1]))\n",
    "\n",
    "# create and fit the LSTM network\n",
    "model = Sequential()\n",
    "model.add(LSTM(4, input_shape=(1,look_back)))\n",
    "model.add(Dense(1))\n",
    "model.compile(loss='mean_squared_error', optimizer='adam')\n",
    "model.fit(trainX, trainY, epochs=20, batch_size=1000, verbose=2)\n"
   ]
  },
  {
   "cell_type": "code",
   "execution_count": 135,
   "metadata": {},
   "outputs": [],
   "source": [
    "#Predictions\n",
    "testPredict = model.predict(testX)\n",
    "\n",
    "#scaler inverse\n",
    "testPredict = scaler.inverse_transform(testPredict)\n",
    "testY = scaler.inverse_transform(testY)\n",
    "\n",
    "from scipy.spatial import distance\n",
    "#calucalte the euclidean distance for prediction and actual data\n",
    "dst = []\n",
    "for i in range(len(testY)):\n",
    "    dst.append(distance.euclidean(testY[i], testPredict[i]))\n"
   ]
  },
  {
   "cell_type": "code",
   "execution_count": 137,
   "metadata": {},
   "outputs": [
    {
     "data": {
      "text/plain": [
       "array([[ 422240],\n",
       "       [ 422241],\n",
       "       [ 422242],\n",
       "       ...,\n",
       "       [1055470],\n",
       "       [1055471],\n",
       "       [1055472]])"
      ]
     },
     "execution_count": 137,
     "metadata": {},
     "output_type": "execute_result"
    }
   ],
   "source": [
    "#get the time (x-axis)\n",
    "time = np.array(range((train_size+51),len(x1)))\n",
    "time.reshape(-1,1)"
   ]
  },
  {
   "cell_type": "code",
   "execution_count": 138,
   "metadata": {},
   "outputs": [
    {
     "data": {
      "image/png": "[encoded data removed]",
      "text/plain": [
       "<Figure size 2160x720 with 1 Axes>"
      ]
     },
     "metadata": {
      "needs_background": "light"
     },
     "output_type": "display_data"
    }
   ],
   "source": [
    "#plot the distance\n",
    "\n",
    "plt.figure(figsize=(30,10))\n",
    "plt.title('RNN for (192.168.1.60,192.168.1.10)')\n",
    "\n",
    "plt.plot(time,dst)\n",
    "#red line means the start of the attack and yellow lines means the end of attack\n",
    "for i in range(len(att_time)):\n",
    "    if i%2 == 0:\n",
    "        plt.axvline(x= (att_time.iloc[i]),color='r')\n",
    "    else:\n",
    "        plt.axvline(x= (att_time.iloc[i]),color='y')\n",
    "\n"
   ]
  },
  {
   "cell_type": "markdown",
   "metadata": {},
   "source": [
    "## LSTM for Physical data(simple trial)"
   ]
  },
  {
   "cell_type": "code",
   "execution_count": 139,
   "metadata": {},
   "outputs": [],
   "source": [
    "# read the data\n",
    "d1 = pd.read_csv('C:/Users/seeml/Desktop/summer_project/SWaT_Dataset_Normal_v1.csv',error_bad_lines = False, sep=\",\")\n",
    "d2 = pd.read_csv('C:/Users/seeml/Desktop/summer_project/SWaT_Dataset_Attack_v0.csv',error_bad_lines = False, sep=\",\")\n",
    "\n",
    "df = pd.concat([d1,d2],ignore_index=True)"
   ]
  },
  {
   "cell_type": "code",
   "execution_count": 140,
   "metadata": {
    "scrolled": true
   },
   "outputs": [],
   "source": [
    "#use the data of LIT101\n",
    "#standarize the data and split the data into train and test\n",
    "x1=df['LIT101'].values\n",
    "x1=x1.reshape(-1,1)\n",
    "scaler = MinMaxScaler(feature_range=(0, 1))\n",
    "x1 = scaler.fit_transform(x1)\n",
    "train_size = int(len(x1) * 0.45)\n",
    "test_size = len(x1) - train_size\n",
    "train, test = x1[0:train_size,:], x1[train_size:len(x1),:]"
   ]
  },
  {
   "cell_type": "code",
   "execution_count": 141,
   "metadata": {},
   "outputs": [
    {
     "name": "stdout",
     "output_type": "stream",
     "text": [
      "Epoch 1/20\n",
      " - 12s - loss: 0.0052\n",
      "Epoch 2/20\n",
      " - 5s - loss: 1.0562e-04\n",
      "Epoch 3/20\n",
      " - 5s - loss: 9.9259e-05\n",
      "Epoch 4/20\n",
      " - 6s - loss: 9.1302e-05\n",
      "Epoch 5/20\n",
      " - 5s - loss: 8.1833e-05\n",
      "Epoch 6/20\n",
      " - 5s - loss: 7.1053e-05\n",
      "Epoch 7/20\n",
      " - 6s - loss: 5.9047e-05\n",
      "Epoch 8/20\n",
      " - 5s - loss: 4.6036e-05\n",
      "Epoch 9/20\n",
      " - 5s - loss: 3.2651e-05\n",
      "Epoch 10/20\n",
      " - 5s - loss: 2.0058e-05\n",
      "Epoch 11/20\n",
      " - 5s - loss: 1.0761e-05\n",
      "Epoch 12/20\n",
      " - 5s - loss: 6.0328e-06\n",
      "Epoch 13/20\n",
      " - 5s - loss: 4.3827e-06\n",
      "Epoch 14/20\n",
      " - 5s - loss: 3.8342e-06\n",
      "Epoch 15/20\n",
      " - 5s - loss: 3.7084e-06\n",
      "Epoch 16/20\n",
      " - 5s - loss: 3.7273e-06\n",
      "Epoch 17/20\n",
      " - 5s - loss: 3.6120e-06\n",
      "Epoch 18/20\n",
      " - 5s - loss: 3.7123e-06\n",
      "Epoch 19/20\n",
      " - 5s - loss: 3.6073e-06\n",
      "Epoch 20/20\n",
      " - 5s - loss: 3.4748e-06\n"
     ]
    },
    {
     "data": {
      "text/plain": [
       "<keras.callbacks.History at 0x1bf2f8704e0>"
      ]
     },
     "execution_count": 141,
     "metadata": {},
     "output_type": "execute_result"
    }
   ],
   "source": [
    "# convert an array of values into a dataset matrix\n",
    "def create_dataset(dataset, look_back):\n",
    "\n",
    "    dataX, dataY = [], []\n",
    "    for i in range(len(dataset)-look_back-1):\n",
    "        a = dataset[i:(i+look_back)]\n",
    "        dataX.append(a)\n",
    "        dataY.append(dataset[i + look_back])\n",
    "    #import pdb; pdb.set_trace()\n",
    "    return np.array(dataX),np.array(dataY)\n",
    "\n",
    "look_back = 50\n",
    "trainX,trainY  = create_dataset(train,look_back)\n",
    "testX, testY = create_dataset(test, look_back)\n",
    "\n",
    "\n",
    "\n",
    "trainX = np.reshape(trainX, (trainX.shape[0], 1,trainX.shape[1]))\n",
    "testX = np.reshape(testX, (testX.shape[0], 1,testX.shape[1]))\n",
    "\n",
    "# create and fit the LSTM network\n",
    "model = Sequential()\n",
    "model.add(LSTM(4, input_shape=(1,look_back)))\n",
    "model.add(Dense(1))\n",
    "model.compile(loss='mean_squared_error', optimizer='adam')\n",
    "model.fit(trainX, trainY, epochs=20, batch_size=1000, verbose=2)\n"
   ]
  },
  {
   "cell_type": "code",
   "execution_count": 142,
   "metadata": {},
   "outputs": [],
   "source": [
    "#Predictions\n",
    "testPredict = model.predict(testX)\n",
    "\n",
    "#scaler inverse\n",
    "testPredict = scaler.inverse_transform(testPredict)\n",
    "testY = scaler.inverse_transform(testY)\n",
    "\n",
    "from scipy.spatial import distance\n",
    "#calucalte the euclidean distance for prediction and actual data\n",
    "dst = []\n",
    "for i in range(len(testY)):\n",
    "    dst.append(distance.euclidean(testY[i], testPredict[i]))\n"
   ]
  },
  {
   "cell_type": "code",
   "execution_count": 143,
   "metadata": {},
   "outputs": [
    {
     "data": {
      "text/html": [
       "<div>\n",
       "<style scoped>\n",
       "    .dataframe tbody tr th:only-of-type {\n",
       "        vertical-align: middle;\n",
       "    }\n",
       "\n",
       "    .dataframe tbody tr th {\n",
       "        vertical-align: top;\n",
       "    }\n",
       "\n",
       "    .dataframe thead th {\n",
       "        text-align: right;\n",
       "    }\n",
       "</style>\n",
       "<table border=\"1\" class=\"dataframe\">\n",
       "  <thead>\n",
       "    <tr style=\"text-align: right;\">\n",
       "      <th></th>\n",
       "      <th>Timestamp</th>\n",
       "      <th>FIT101</th>\n",
       "      <th>LIT101</th>\n",
       "      <th>MV101</th>\n",
       "      <th>P101</th>\n",
       "      <th>P102</th>\n",
       "      <th>AIT201</th>\n",
       "      <th>AIT202</th>\n",
       "      <th>AIT203</th>\n",
       "      <th>FIT201</th>\n",
       "      <th>...</th>\n",
       "      <th>P501</th>\n",
       "      <th>P502</th>\n",
       "      <th>PIT501</th>\n",
       "      <th>PIT502</th>\n",
       "      <th>PIT503</th>\n",
       "      <th>FIT601</th>\n",
       "      <th>P601</th>\n",
       "      <th>P602</th>\n",
       "      <th>P603</th>\n",
       "      <th>Normal/Attack</th>\n",
       "    </tr>\n",
       "  </thead>\n",
       "  <tbody>\n",
       "    <tr>\n",
       "      <th>0</th>\n",
       "      <td>22/12/2015 4:30:00 PM</td>\n",
       "      <td>0.0</td>\n",
       "      <td>124.3135</td>\n",
       "      <td>1</td>\n",
       "      <td>1</td>\n",
       "      <td>1</td>\n",
       "      <td>251.9226</td>\n",
       "      <td>8.313446</td>\n",
       "      <td>312.7916</td>\n",
       "      <td>0.0</td>\n",
       "      <td>...</td>\n",
       "      <td>1</td>\n",
       "      <td>1</td>\n",
       "      <td>9.100231</td>\n",
       "      <td>0.0</td>\n",
       "      <td>3.3485</td>\n",
       "      <td>0.000256</td>\n",
       "      <td>1</td>\n",
       "      <td>1</td>\n",
       "      <td>1</td>\n",
       "      <td>Normal</td>\n",
       "    </tr>\n",
       "    <tr>\n",
       "      <th>1</th>\n",
       "      <td>22/12/2015 4:30:01 PM</td>\n",
       "      <td>0.0</td>\n",
       "      <td>124.3920</td>\n",
       "      <td>1</td>\n",
       "      <td>1</td>\n",
       "      <td>1</td>\n",
       "      <td>251.9226</td>\n",
       "      <td>8.313446</td>\n",
       "      <td>312.7916</td>\n",
       "      <td>0.0</td>\n",
       "      <td>...</td>\n",
       "      <td>1</td>\n",
       "      <td>1</td>\n",
       "      <td>9.100231</td>\n",
       "      <td>0.0</td>\n",
       "      <td>3.3485</td>\n",
       "      <td>0.000256</td>\n",
       "      <td>1</td>\n",
       "      <td>1</td>\n",
       "      <td>1</td>\n",
       "      <td>Normal</td>\n",
       "    </tr>\n",
       "    <tr>\n",
       "      <th>2</th>\n",
       "      <td>22/12/2015 4:30:02 PM</td>\n",
       "      <td>0.0</td>\n",
       "      <td>124.4705</td>\n",
       "      <td>1</td>\n",
       "      <td>1</td>\n",
       "      <td>1</td>\n",
       "      <td>251.9226</td>\n",
       "      <td>8.313446</td>\n",
       "      <td>312.7916</td>\n",
       "      <td>0.0</td>\n",
       "      <td>...</td>\n",
       "      <td>1</td>\n",
       "      <td>1</td>\n",
       "      <td>9.100231</td>\n",
       "      <td>0.0</td>\n",
       "      <td>3.3485</td>\n",
       "      <td>0.000256</td>\n",
       "      <td>1</td>\n",
       "      <td>1</td>\n",
       "      <td>1</td>\n",
       "      <td>Normal</td>\n",
       "    </tr>\n",
       "    <tr>\n",
       "      <th>3</th>\n",
       "      <td>22/12/2015 4:30:03 PM</td>\n",
       "      <td>0.0</td>\n",
       "      <td>124.6668</td>\n",
       "      <td>1</td>\n",
       "      <td>1</td>\n",
       "      <td>1</td>\n",
       "      <td>251.9226</td>\n",
       "      <td>8.313446</td>\n",
       "      <td>312.7916</td>\n",
       "      <td>0.0</td>\n",
       "      <td>...</td>\n",
       "      <td>1</td>\n",
       "      <td>1</td>\n",
       "      <td>9.100231</td>\n",
       "      <td>0.0</td>\n",
       "      <td>3.3485</td>\n",
       "      <td>0.000256</td>\n",
       "      <td>1</td>\n",
       "      <td>1</td>\n",
       "      <td>1</td>\n",
       "      <td>Normal</td>\n",
       "    </tr>\n",
       "    <tr>\n",
       "      <th>4</th>\n",
       "      <td>22/12/2015 4:30:04 PM</td>\n",
       "      <td>0.0</td>\n",
       "      <td>124.5098</td>\n",
       "      <td>1</td>\n",
       "      <td>1</td>\n",
       "      <td>1</td>\n",
       "      <td>251.9226</td>\n",
       "      <td>8.313446</td>\n",
       "      <td>312.7916</td>\n",
       "      <td>0.0</td>\n",
       "      <td>...</td>\n",
       "      <td>1</td>\n",
       "      <td>1</td>\n",
       "      <td>9.100231</td>\n",
       "      <td>0.0</td>\n",
       "      <td>3.3485</td>\n",
       "      <td>0.000256</td>\n",
       "      <td>1</td>\n",
       "      <td>1</td>\n",
       "      <td>1</td>\n",
       "      <td>Normal</td>\n",
       "    </tr>\n",
       "  </tbody>\n",
       "</table>\n",
       "<p>5 rows × 53 columns</p>\n",
       "</div>"
      ],
      "text/plain": [
       "                Timestamp  FIT101    LIT101  MV101  P101  P102    AIT201  \\\n",
       "0   22/12/2015 4:30:00 PM     0.0  124.3135      1     1     1  251.9226   \n",
       "1   22/12/2015 4:30:01 PM     0.0  124.3920      1     1     1  251.9226   \n",
       "2   22/12/2015 4:30:02 PM     0.0  124.4705      1     1     1  251.9226   \n",
       "3   22/12/2015 4:30:03 PM     0.0  124.6668      1     1     1  251.9226   \n",
       "4   22/12/2015 4:30:04 PM     0.0  124.5098      1     1     1  251.9226   \n",
       "\n",
       "     AIT202    AIT203  FIT201  ...  P501  P502    PIT501  PIT502  PIT503  \\\n",
       "0  8.313446  312.7916     0.0  ...     1     1  9.100231     0.0  3.3485   \n",
       "1  8.313446  312.7916     0.0  ...     1     1  9.100231     0.0  3.3485   \n",
       "2  8.313446  312.7916     0.0  ...     1     1  9.100231     0.0  3.3485   \n",
       "3  8.313446  312.7916     0.0  ...     1     1  9.100231     0.0  3.3485   \n",
       "4  8.313446  312.7916     0.0  ...     1     1  9.100231     0.0  3.3485   \n",
       "\n",
       "     FIT601  P601  P602  P603  Normal/Attack  \n",
       "0  0.000256     1     1     1         Normal  \n",
       "1  0.000256     1     1     1         Normal  \n",
       "2  0.000256     1     1     1         Normal  \n",
       "3  0.000256     1     1     1         Normal  \n",
       "4  0.000256     1     1     1         Normal  \n",
       "\n",
       "[5 rows x 53 columns]"
      ]
     },
     "execution_count": 143,
     "metadata": {},
     "output_type": "execute_result"
    }
   ],
   "source": [
    "df.head()"
   ]
  },
  {
   "cell_type": "code",
   "execution_count": 147,
   "metadata": {},
   "outputs": [],
   "source": [
    "# get the index of Tag value changes\n",
    "label = df['Normal/Attack'].values.tolist()\n",
    "\n",
    "index1 = np.where(np.roll(label,1) != label)[0]\n"
   ]
  },
  {
   "cell_type": "code",
   "execution_count": 145,
   "metadata": {},
   "outputs": [
    {
     "data": {
      "text/plain": [
       "array([[425264],\n",
       "       [425265],\n",
       "       [425266],\n",
       "       ...,\n",
       "       [944916],\n",
       "       [944917],\n",
       "       [944918]])"
      ]
     },
     "execution_count": 145,
     "metadata": {},
     "output_type": "execute_result"
    }
   ],
   "source": [
    "#get the time (x-axis)\n",
    "time = np.array(range((train_size+51),len(x1)))\n",
    "time.reshape(-1,1)"
   ]
  },
  {
   "cell_type": "code",
   "execution_count": 148,
   "metadata": {},
   "outputs": [
    {
     "data": {
      "image/png": "[encoded data removed]",
      "text/plain": [
       "<Figure size 2160x720 with 1 Axes>"
      ]
     },
     "metadata": {
      "needs_background": "light"
     },
     "output_type": "display_data"
    }
   ],
   "source": [
    "#plot the distance\n",
    "plt.figure(figsize=(30,10))\n",
    "plt.title('LSTM for LIT101')\n",
    "plt.plot(time,dst)\n",
    "#red line means the start of the attack and yellow lines means the end of attack\n",
    "for i in range(len(att_time)):\n",
    "    if i%2 == 0:\n",
    "        plt.axvline(x= (index1[i]),color='r')\n",
    "    else:\n",
    "        plt.axvline(x= (index1[i]),color='y')\n",
    "plt.savefig(\"phys.png\")"
   ]
  }
 ],
 "metadata": {
  "kernelspec": {
   "display_name": "Python 3",
   "language": "python",
   "name": "python3"
  },
  "language_info": {
   "codemirror_mode": {
    "name": "ipython",
    "version": 3
   },
   "file_extension": ".py",
   "mimetype": "text/x-python",
   "name": "python",
   "nbconvert_exporter": "python",
   "pygments_lexer": "ipython3",
   "version": "3.6.7"
  }
 },
 "nbformat": 4,
 "nbformat_minor": 2
}

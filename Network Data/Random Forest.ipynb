{
 "cells": [
  {
   "cell_type": "code",
   "execution_count": 1,
   "metadata": {},
   "outputs": [],
   "source": [
    "import pandas as pd\n",
    "from sklearn.ensemble import RandomForestClassifier\n",
    "import numpy as np\n",
    "from sklearn.model_selection import train_test_split\n",
    "import networkx as nx\n",
    "import collections\n",
    "import math\n",
    "import matplotlib.pyplot as plt\n",
    "import glob\n",
    "from sklearn.preprocessing import StandardScaler\n",
    "from sklearn.metrics import confusion_matrix\n",
    "import binascii, struct\n",
    "from datetime import datetime\n",
    "import socket, struct\n",
    "import string\n",
    "from sklearn.ensemble import RandomForestRegressor\n",
    "from sklearn.metrics import roc_curve\n",
    "from sklearn.metrics import roc_auc_score"
   ]
  },
  {
   "cell_type": "markdown",
   "metadata": {},
   "source": [
    "## Read files"
   ]
  },
  {
   "cell_type": "code",
   "execution_count": 2,
   "metadata": {},
   "outputs": [],
   "source": [
    "g = glob.glob('D:/swat/*.csv')"
   ]
  },
  {
   "cell_type": "code",
   "execution_count": 3,
   "metadata": {},
   "outputs": [
    {
     "name": "stdout",
     "output_type": "stream",
     "text": [
      "loading file: D:/swat\\2015-12-29_190411_104.log.part01_sorted.csv\n",
      "loading file: D:/swat\\2015-12-29_190411_104.log.part02_sorted.csv\n",
      "loading file: D:/swat\\2015-12-29_190411_104.log.part03_sorted.csv\n",
      "loading file: D:/swat\\2015-12-29_190411_104.log.part04_sorted.csv\n",
      "loading file: D:/swat\\2015-12-29_190411_104.log.part05_sorted.csv\n",
      "loading file: D:/swat\\2015-12-29_190411_104.log.part06_sorted.csv\n",
      "loading file: D:/swat\\2015-12-29_190411_104.log.part07_sorted.csv\n",
      "loading file: D:/swat\\2015-12-29_190411_104.log.part08_sorted.csv\n",
      "loading file: D:/swat\\2015-12-29_190411_104.log.part09_sorted.csv\n",
      "loading file: D:/swat\\2015-12-29_190411_104.log.part10_sorted.csv\n",
      "loading file: D:/swat\\2015-12-29_190411_104.log.part11_sorted.csv\n",
      "loading file: D:/swat\\2015-12-29_190411_104.log.part12_sorted.csv\n",
      "loading file: D:/swat\\2015-12-29_190411_104.log.part13_sorted.csv\n",
      "loading file: D:/swat\\2015-12-29_190411_104.log.part14_sorted.csv\n",
      "loading file: D:/swat\\2015-12-30_001940_105.log.part01_sorted.csv\n",
      "loading file: D:/swat\\2015-12-30_001940_105.log.part02_sorted.csv\n",
      "loading file: D:/swat\\2015-12-30_001940_105.log.part03_sorted.csv\n",
      "loading file: D:/swat\\2015-12-30_001940_105.log.part04_sorted.csv\n",
      "loading file: D:/swat\\2015-12-30_001940_105.log.part05_sorted.csv\n",
      "loading file: D:/swat\\2015-12-30_001940_105.log.part06_sorted.csv\n",
      "loading file: D:/swat\\2015-12-30_001940_105.log.part07_sorted.csv\n",
      "loading file: D:/swat\\2015-12-30_001940_105.log.part08_sorted.csv\n",
      "loading file: D:/swat\\2015-12-30_001940_105.log.part09_sorted.csv\n",
      "loading file: D:/swat\\2015-12-30_001940_105.log.part10_sorted.csv\n",
      "loading file: D:/swat\\2015-12-30_001940_105.log.part11_sorted.csv\n",
      "loading file: D:/swat\\2015-12-30_001940_105.log.part12_sorted.csv\n",
      "loading file: D:/swat\\2015-12-30_001940_105.log.part13_sorted.csv\n",
      "loading file: D:/swat\\2015-12-30_001940_105.log.part14_sorted.csv\n",
      "loading file: D:/swat\\2015-12-30_053515_106.log.part01_sorted.csv\n",
      "loading file: D:/swat\\2015-12-30_053515_106.log.part02_sorted.csv\n",
      "loading file: D:/swat\\2015-12-30_053515_106.log.part03_sorted.csv\n",
      "loading file: D:/swat\\2015-12-30_053515_106.log.part04_sorted.csv\n",
      "loading file: D:/swat\\2015-12-30_053515_106.log.part05_sorted.csv\n",
      "loading file: D:/swat\\2015-12-30_053515_106.log.part06_sorted.csv\n",
      "loading file: D:/swat\\2015-12-30_053515_106.log.part07_sorted.csv\n",
      "loading file: D:/swat\\2015-12-30_053515_106.log.part08_sorted.csv\n",
      "loading file: D:/swat\\2015-12-30_053515_106.log.part09_sorted.csv\n",
      "loading file: D:/swat\\2015-12-30_053515_106.log.part10_sorted.csv\n",
      "loading file: D:/swat\\2015-12-30_053515_106.log.part11_sorted.csv\n",
      "loading file: D:/swat\\2015-12-30_053515_106.log.part12_sorted.csv\n",
      "loading file: D:/swat\\2015-12-30_053515_106.log.part13_sorted.csv\n",
      "loading file: D:/swat\\2015-12-30_053515_106.log.part14_sorted.csv\n",
      "loading file: D:/swat\\2015-12-30_105053_107.log.part01_sorted.csv\n",
      "loading file: D:/swat\\2015-12-30_105053_107.log.part02_sorted.csv\n",
      "loading file: D:/swat\\2015-12-30_105053_107.log.part03_sorted.csv\n",
      "loading file: D:/swat\\2015-12-30_105053_107.log.part04_sorted.csv\n",
      "loading file: D:/swat\\2015-12-30_105053_107.log.part05_sorted.csv\n",
      "loading file: D:/swat\\2015-12-30_105053_107.log.part06_sorted.csv\n",
      "loading file: D:/swat\\2015-12-30_105053_107.log.part07_sorted.csv\n",
      "loading file: D:/swat\\2015-12-30_105053_107.log.part08_sorted.csv\n"
     ]
    }
   ],
   "source": [
    "dataframes = []\n",
    "\n",
    "for filename in g[490:540]:\n",
    "    print(\"loading file: {}\".format(filename))\n",
    "    d = pd.read_csv(filename,error_bad_lines = False, sep=\",\")\n",
    "    dataframes.append(d[d['Modbus_Value']!= 'Number of Elements: 1'][['date','time','orig','type','i/f_name','i/f_dir','src','dst','proto','appi_name','proxy_src_ip','Modbus_Function_Code','Modbus_Function_Description','Modbus_Transaction_ID','SCADA_Tag','Modbus_Value','service','s_port','Tag']])"
   ]
  },
  {
   "cell_type": "code",
   "execution_count": 4,
   "metadata": {},
   "outputs": [],
   "source": [
    "#combine those dataframes\n",
    "df = pd.concat(dataframes,ignore_index=True)"
   ]
  },
  {
   "cell_type": "code",
   "execution_count": 5,
   "metadata": {},
   "outputs": [],
   "source": [
    "## del dataframes to save memory\n",
    "del dataframes"
   ]
  },
  {
   "cell_type": "code",
   "execution_count": 6,
   "metadata": {
    "scrolled": true
   },
   "outputs": [
    {
     "data": {
      "text/html": [
       "<div>\n",
       "<style scoped>\n",
       "    .dataframe tbody tr th:only-of-type {\n",
       "        vertical-align: middle;\n",
       "    }\n",
       "\n",
       "    .dataframe tbody tr th {\n",
       "        vertical-align: top;\n",
       "    }\n",
       "\n",
       "    .dataframe thead th {\n",
       "        text-align: right;\n",
       "    }\n",
       "</style>\n",
       "<table border=\"1\" class=\"dataframe\">\n",
       "  <thead>\n",
       "    <tr style=\"text-align: right;\">\n",
       "      <th></th>\n",
       "      <th>date</th>\n",
       "      <th>time</th>\n",
       "      <th>orig</th>\n",
       "      <th>type</th>\n",
       "      <th>i/f_name</th>\n",
       "      <th>i/f_dir</th>\n",
       "      <th>src</th>\n",
       "      <th>dst</th>\n",
       "      <th>proto</th>\n",
       "      <th>appi_name</th>\n",
       "      <th>proxy_src_ip</th>\n",
       "      <th>Modbus_Function_Code</th>\n",
       "      <th>Modbus_Function_Description</th>\n",
       "      <th>Modbus_Transaction_ID</th>\n",
       "      <th>SCADA_Tag</th>\n",
       "      <th>Modbus_Value</th>\n",
       "      <th>service</th>\n",
       "      <th>s_port</th>\n",
       "      <th>Tag</th>\n",
       "    </tr>\n",
       "  </thead>\n",
       "  <tbody>\n",
       "    <tr>\n",
       "      <th>0</th>\n",
       "      <td>29Dec2015</td>\n",
       "      <td>13:39:41</td>\n",
       "      <td>192.168.1.48</td>\n",
       "      <td>log</td>\n",
       "      <td>eth1</td>\n",
       "      <td>outbound</td>\n",
       "      <td>192.168.1.30</td>\n",
       "      <td>192.168.1.40</td>\n",
       "      <td>tcp</td>\n",
       "      <td>CIP_read_tag_service</td>\n",
       "      <td>192.168.1.30</td>\n",
       "      <td>76.0</td>\n",
       "      <td>Read Tag Service - Response</td>\n",
       "      <td>7644.0</td>\n",
       "      <td>HMI_LIT401</td>\n",
       "      <td>0x03 0xa7 0x66 0x44; 0x00 0x00 0x00 0x00; 0x00...</td>\n",
       "      <td>44818.0</td>\n",
       "      <td>52544.0</td>\n",
       "      <td>0</td>\n",
       "    </tr>\n",
       "    <tr>\n",
       "      <th>1</th>\n",
       "      <td>29Dec2015</td>\n",
       "      <td>13:39:41</td>\n",
       "      <td>192.168.1.48</td>\n",
       "      <td>log</td>\n",
       "      <td>eth1</td>\n",
       "      <td>outbound</td>\n",
       "      <td>192.168.1.60</td>\n",
       "      <td>192.168.1.10</td>\n",
       "      <td>tcp</td>\n",
       "      <td>CIP_read_tag_service</td>\n",
       "      <td>192.168.1.60</td>\n",
       "      <td>76.0</td>\n",
       "      <td>Read Tag Service - Response</td>\n",
       "      <td>13765.0</td>\n",
       "      <td>HMI_LIT101</td>\n",
       "      <td>0x44 0x5e 0x02 0x44; 0x00 0x00 0x00 0x00; 0x00...</td>\n",
       "      <td>44818.0</td>\n",
       "      <td>53260.0</td>\n",
       "      <td>0</td>\n",
       "    </tr>\n",
       "    <tr>\n",
       "      <th>2</th>\n",
       "      <td>29Dec2015</td>\n",
       "      <td>13:39:41</td>\n",
       "      <td>192.168.1.48</td>\n",
       "      <td>log</td>\n",
       "      <td>eth1</td>\n",
       "      <td>outbound</td>\n",
       "      <td>192.168.1.10</td>\n",
       "      <td>192.168.1.20</td>\n",
       "      <td>tcp</td>\n",
       "      <td>CIP_read_tag_service</td>\n",
       "      <td>192.168.1.10</td>\n",
       "      <td>76.0</td>\n",
       "      <td>Read Tag Service - Response</td>\n",
       "      <td>62639.0</td>\n",
       "      <td>HMI_FIT201</td>\n",
       "      <td>0xca 0x8b 0x1c 0x40; 0x00 0x00 0x00 0x00; 0x00...</td>\n",
       "      <td>44818.0</td>\n",
       "      <td>54592.0</td>\n",
       "      <td>0</td>\n",
       "    </tr>\n",
       "    <tr>\n",
       "      <th>3</th>\n",
       "      <td>29Dec2015</td>\n",
       "      <td>13:39:41</td>\n",
       "      <td>192.168.1.48</td>\n",
       "      <td>log</td>\n",
       "      <td>eth1</td>\n",
       "      <td>outbound</td>\n",
       "      <td>192.168.1.60</td>\n",
       "      <td>192.168.1.20</td>\n",
       "      <td>tcp</td>\n",
       "      <td>CIP_read_tag_service</td>\n",
       "      <td>192.168.1.60</td>\n",
       "      <td>76.0</td>\n",
       "      <td>Read Tag Service - Response</td>\n",
       "      <td>57718.0</td>\n",
       "      <td>HMI_AIT202</td>\n",
       "      <td>0xfe 0x9f 0x06 0x41; 0x00 0x00 0x00 0x00; 0x00...</td>\n",
       "      <td>44818.0</td>\n",
       "      <td>53250.0</td>\n",
       "      <td>0</td>\n",
       "    </tr>\n",
       "    <tr>\n",
       "      <th>4</th>\n",
       "      <td>29Dec2015</td>\n",
       "      <td>13:39:41</td>\n",
       "      <td>192.168.1.48</td>\n",
       "      <td>log</td>\n",
       "      <td>eth1</td>\n",
       "      <td>outbound</td>\n",
       "      <td>192.168.1.20</td>\n",
       "      <td>192.168.1.30</td>\n",
       "      <td>tcp</td>\n",
       "      <td>CIP_read_tag_service</td>\n",
       "      <td>192.168.1.20</td>\n",
       "      <td>76.0</td>\n",
       "      <td>Read Tag Service - Response</td>\n",
       "      <td>39387.0</td>\n",
       "      <td>HMI_LIT301</td>\n",
       "      <td>0x9f 0xf8 0x6e 0x44; 0x00 0x00 0x00 0x00; 0x00...</td>\n",
       "      <td>44818.0</td>\n",
       "      <td>53326.0</td>\n",
       "      <td>0</td>\n",
       "    </tr>\n",
       "  </tbody>\n",
       "</table>\n",
       "</div>"
      ],
      "text/plain": [
       "        date      time          orig type i/f_name   i/f_dir           src  \\\n",
       "0  29Dec2015  13:39:41  192.168.1.48  log     eth1  outbound  192.168.1.30   \n",
       "1  29Dec2015  13:39:41  192.168.1.48  log     eth1  outbound  192.168.1.60   \n",
       "2  29Dec2015  13:39:41  192.168.1.48  log     eth1  outbound  192.168.1.10   \n",
       "3  29Dec2015  13:39:41  192.168.1.48  log     eth1  outbound  192.168.1.60   \n",
       "4  29Dec2015  13:39:41  192.168.1.48  log     eth1  outbound  192.168.1.20   \n",
       "\n",
       "            dst proto             appi_name  proxy_src_ip  \\\n",
       "0  192.168.1.40   tcp  CIP_read_tag_service  192.168.1.30   \n",
       "1  192.168.1.10   tcp  CIP_read_tag_service  192.168.1.60   \n",
       "2  192.168.1.20   tcp  CIP_read_tag_service  192.168.1.10   \n",
       "3  192.168.1.20   tcp  CIP_read_tag_service  192.168.1.60   \n",
       "4  192.168.1.30   tcp  CIP_read_tag_service  192.168.1.20   \n",
       "\n",
       "   Modbus_Function_Code  Modbus_Function_Description  Modbus_Transaction_ID  \\\n",
       "0                  76.0  Read Tag Service - Response                 7644.0   \n",
       "1                  76.0  Read Tag Service - Response                13765.0   \n",
       "2                  76.0  Read Tag Service - Response                62639.0   \n",
       "3                  76.0  Read Tag Service - Response                57718.0   \n",
       "4                  76.0  Read Tag Service - Response                39387.0   \n",
       "\n",
       "    SCADA_Tag                                       Modbus_Value  service  \\\n",
       "0  HMI_LIT401  0x03 0xa7 0x66 0x44; 0x00 0x00 0x00 0x00; 0x00...  44818.0   \n",
       "1  HMI_LIT101  0x44 0x5e 0x02 0x44; 0x00 0x00 0x00 0x00; 0x00...  44818.0   \n",
       "2  HMI_FIT201  0xca 0x8b 0x1c 0x40; 0x00 0x00 0x00 0x00; 0x00...  44818.0   \n",
       "3  HMI_AIT202  0xfe 0x9f 0x06 0x41; 0x00 0x00 0x00 0x00; 0x00...  44818.0   \n",
       "4  HMI_LIT301  0x9f 0xf8 0x6e 0x44; 0x00 0x00 0x00 0x00; 0x00...  44818.0   \n",
       "\n",
       "    s_port  Tag  \n",
       "0  52544.0    0  \n",
       "1  53260.0    0  \n",
       "2  54592.0    0  \n",
       "3  53250.0    0  \n",
       "4  53326.0    0  "
      ]
     },
     "execution_count": 6,
     "metadata": {},
     "output_type": "execute_result"
    }
   ],
   "source": [
    "#what does the df look like\n",
    "df.head()"
   ]
  },
  {
   "cell_type": "code",
   "execution_count": 7,
   "metadata": {},
   "outputs": [],
   "source": [
    "#Since the date format is not the same. (i.e some are DD-MMM-YY, some are DDMMMYYYY), we make the date format be the same.\n",
    "def changeformat(s):\n",
    "    if \"-\" in s:\n",
    "        s = s.replace(\"-\", \"\", 1)\n",
    "        s = s.replace(\"-\", \"20\", 1)\n",
    "    return s\n",
    "df['date'] = list(map(changeformat,df['date']))"
   ]
  },
  {
   "cell_type": "code",
   "execution_count": 8,
   "metadata": {},
   "outputs": [],
   "source": [
    "# change \"dec\" into 12 and \"Jan\" into 1 so that the following function can work.\n",
    "def montoint(s):\n",
    "    if s == \"Dec\":\n",
    "        t = 12\n",
    "    if s == \"Jan\":\n",
    "        t = 1\n",
    "    return t\n",
    "\n",
    "\n",
    "#Create a new column called sec. the value means how many seconds are there since 21-12-2015, 22:17:56. \n",
    "def timetosec(a,b):\n",
    "    s = datetime(2015,12,21,22,17,56)\n",
    "    [year, month, day] =[int(a[5:9]),montoint(a[2:5]),int(a[0:2])]\n",
    "    [hours, minutes, seconds] = [int(x) for x in b.split(':')]\n",
    "    now = datetime(year,month,day,hours,minutes,seconds)\n",
    "    diff_seconds = int((now-s).total_seconds())\n",
    "    return diff_seconds\n",
    "\n",
    "df['sec'] = list(map(timetosec,df['date'],df['time']))"
   ]
  },
  {
   "cell_type": "code",
   "execution_count": 9,
   "metadata": {},
   "outputs": [],
   "source": [
    "df = df.drop([\"date\", \"time\"], axis=1) ##save memory"
   ]
  },
  {
   "cell_type": "code",
   "execution_count": 11,
   "metadata": {},
   "outputs": [],
   "source": [
    "## remove all nan values.\n",
    "df = df[df['i/f_dir']=='outbound']\n",
    "df = df[df['src'].notna()]\n",
    "df = df[df['dst'].notna()]\n",
    "df = df[df['orig'].notna()]\n",
    "df = df[df['proxy_src_ip'].notna()]\n",
    "df = df[df['Modbus_Function_Code'].notna()]\n",
    "df = df[df['Modbus_Function_Description'].notna()]\n",
    "df = df[df['Modbus_Transaction_ID'].notna()]\n",
    "df = df[df['SCADA_Tag'].notna()]\n",
    "df = df[df['appi_name'].notna()]\n",
    "df = df[df['proto'].notna()]\n",
    "df = df[df['type'].notna()]\n",
    "df = df[df['Modbus_Value'].notna()]\n",
    "\n",
    "\n"
   ]
  },
  {
   "cell_type": "code",
   "execution_count": 12,
   "metadata": {},
   "outputs": [],
   "source": [
    "df = df.drop(['i/f_dir','i/f_name'],axis=1) ##save memory since all the values in this column are the same."
   ]
  },
  {
   "cell_type": "code",
   "execution_count": 13,
   "metadata": {},
   "outputs": [],
   "source": [
    "df.index = range(len(df.index))## reindex the df."
   ]
  },
  {
   "cell_type": "code",
   "execution_count": 14,
   "metadata": {},
   "outputs": [
    {
     "data": {
      "text/html": [
       "<div>\n",
       "<style scoped>\n",
       "    .dataframe tbody tr th:only-of-type {\n",
       "        vertical-align: middle;\n",
       "    }\n",
       "\n",
       "    .dataframe tbody tr th {\n",
       "        vertical-align: top;\n",
       "    }\n",
       "\n",
       "    .dataframe thead th {\n",
       "        text-align: right;\n",
       "    }\n",
       "</style>\n",
       "<table border=\"1\" class=\"dataframe\">\n",
       "  <thead>\n",
       "    <tr style=\"text-align: right;\">\n",
       "      <th></th>\n",
       "      <th>orig</th>\n",
       "      <th>type</th>\n",
       "      <th>src</th>\n",
       "      <th>dst</th>\n",
       "      <th>proto</th>\n",
       "      <th>appi_name</th>\n",
       "      <th>proxy_src_ip</th>\n",
       "      <th>Modbus_Function_Code</th>\n",
       "      <th>Modbus_Function_Description</th>\n",
       "      <th>Modbus_Transaction_ID</th>\n",
       "      <th>SCADA_Tag</th>\n",
       "      <th>Modbus_Value</th>\n",
       "      <th>service</th>\n",
       "      <th>s_port</th>\n",
       "      <th>Tag</th>\n",
       "      <th>sec</th>\n",
       "    </tr>\n",
       "  </thead>\n",
       "  <tbody>\n",
       "    <tr>\n",
       "      <th>0</th>\n",
       "      <td>3232235824</td>\n",
       "      <td>log</td>\n",
       "      <td>3232235806</td>\n",
       "      <td>3232235816</td>\n",
       "      <td>tcp</td>\n",
       "      <td>CIP_read_tag_service</td>\n",
       "      <td>3232235806</td>\n",
       "      <td>76.0</td>\n",
       "      <td>Read Tag Service - Response</td>\n",
       "      <td>7644.0</td>\n",
       "      <td>HMI_LIT401</td>\n",
       "      <td>0x03 0xa7 0x66 0x44; 0x00 0x00 0x00 0x00; 0x00...</td>\n",
       "      <td>44818.0</td>\n",
       "      <td>52544.0</td>\n",
       "      <td>0</td>\n",
       "      <td>660105</td>\n",
       "    </tr>\n",
       "    <tr>\n",
       "      <th>1</th>\n",
       "      <td>3232235824</td>\n",
       "      <td>log</td>\n",
       "      <td>3232235836</td>\n",
       "      <td>3232235786</td>\n",
       "      <td>tcp</td>\n",
       "      <td>CIP_read_tag_service</td>\n",
       "      <td>3232235836</td>\n",
       "      <td>76.0</td>\n",
       "      <td>Read Tag Service - Response</td>\n",
       "      <td>13765.0</td>\n",
       "      <td>HMI_LIT101</td>\n",
       "      <td>0x44 0x5e 0x02 0x44; 0x00 0x00 0x00 0x00; 0x00...</td>\n",
       "      <td>44818.0</td>\n",
       "      <td>53260.0</td>\n",
       "      <td>0</td>\n",
       "      <td>660105</td>\n",
       "    </tr>\n",
       "    <tr>\n",
       "      <th>2</th>\n",
       "      <td>3232235824</td>\n",
       "      <td>log</td>\n",
       "      <td>3232235786</td>\n",
       "      <td>3232235796</td>\n",
       "      <td>tcp</td>\n",
       "      <td>CIP_read_tag_service</td>\n",
       "      <td>3232235786</td>\n",
       "      <td>76.0</td>\n",
       "      <td>Read Tag Service - Response</td>\n",
       "      <td>62639.0</td>\n",
       "      <td>HMI_FIT201</td>\n",
       "      <td>0xca 0x8b 0x1c 0x40; 0x00 0x00 0x00 0x00; 0x00...</td>\n",
       "      <td>44818.0</td>\n",
       "      <td>54592.0</td>\n",
       "      <td>0</td>\n",
       "      <td>660105</td>\n",
       "    </tr>\n",
       "    <tr>\n",
       "      <th>3</th>\n",
       "      <td>3232235824</td>\n",
       "      <td>log</td>\n",
       "      <td>3232235836</td>\n",
       "      <td>3232235796</td>\n",
       "      <td>tcp</td>\n",
       "      <td>CIP_read_tag_service</td>\n",
       "      <td>3232235836</td>\n",
       "      <td>76.0</td>\n",
       "      <td>Read Tag Service - Response</td>\n",
       "      <td>57718.0</td>\n",
       "      <td>HMI_AIT202</td>\n",
       "      <td>0xfe 0x9f 0x06 0x41; 0x00 0x00 0x00 0x00; 0x00...</td>\n",
       "      <td>44818.0</td>\n",
       "      <td>53250.0</td>\n",
       "      <td>0</td>\n",
       "      <td>660105</td>\n",
       "    </tr>\n",
       "    <tr>\n",
       "      <th>4</th>\n",
       "      <td>3232235824</td>\n",
       "      <td>log</td>\n",
       "      <td>3232235796</td>\n",
       "      <td>3232235806</td>\n",
       "      <td>tcp</td>\n",
       "      <td>CIP_read_tag_service</td>\n",
       "      <td>3232235796</td>\n",
       "      <td>76.0</td>\n",
       "      <td>Read Tag Service - Response</td>\n",
       "      <td>39387.0</td>\n",
       "      <td>HMI_LIT301</td>\n",
       "      <td>0x9f 0xf8 0x6e 0x44; 0x00 0x00 0x00 0x00; 0x00...</td>\n",
       "      <td>44818.0</td>\n",
       "      <td>53326.0</td>\n",
       "      <td>0</td>\n",
       "      <td>660105</td>\n",
       "    </tr>\n",
       "  </tbody>\n",
       "</table>\n",
       "</div>"
      ],
      "text/plain": [
       "         orig type         src         dst proto             appi_name  \\\n",
       "0  3232235824  log  3232235806  3232235816   tcp  CIP_read_tag_service   \n",
       "1  3232235824  log  3232235836  3232235786   tcp  CIP_read_tag_service   \n",
       "2  3232235824  log  3232235786  3232235796   tcp  CIP_read_tag_service   \n",
       "3  3232235824  log  3232235836  3232235796   tcp  CIP_read_tag_service   \n",
       "4  3232235824  log  3232235796  3232235806   tcp  CIP_read_tag_service   \n",
       "\n",
       "   proxy_src_ip  Modbus_Function_Code  Modbus_Function_Description  \\\n",
       "0    3232235806                  76.0  Read Tag Service - Response   \n",
       "1    3232235836                  76.0  Read Tag Service - Response   \n",
       "2    3232235786                  76.0  Read Tag Service - Response   \n",
       "3    3232235836                  76.0  Read Tag Service - Response   \n",
       "4    3232235796                  76.0  Read Tag Service - Response   \n",
       "\n",
       "   Modbus_Transaction_ID   SCADA_Tag  \\\n",
       "0                 7644.0  HMI_LIT401   \n",
       "1                13765.0  HMI_LIT101   \n",
       "2                62639.0  HMI_FIT201   \n",
       "3                57718.0  HMI_AIT202   \n",
       "4                39387.0  HMI_LIT301   \n",
       "\n",
       "                                        Modbus_Value  service   s_port  Tag  \\\n",
       "0  0x03 0xa7 0x66 0x44; 0x00 0x00 0x00 0x00; 0x00...  44818.0  52544.0    0   \n",
       "1  0x44 0x5e 0x02 0x44; 0x00 0x00 0x00 0x00; 0x00...  44818.0  53260.0    0   \n",
       "2  0xca 0x8b 0x1c 0x40; 0x00 0x00 0x00 0x00; 0x00...  44818.0  54592.0    0   \n",
       "3  0xfe 0x9f 0x06 0x41; 0x00 0x00 0x00 0x00; 0x00...  44818.0  53250.0    0   \n",
       "4  0x9f 0xf8 0x6e 0x44; 0x00 0x00 0x00 0x00; 0x00...  44818.0  53326.0    0   \n",
       "\n",
       "      sec  \n",
       "0  660105  \n",
       "1  660105  \n",
       "2  660105  \n",
       "3  660105  \n",
       "4  660105  "
      ]
     },
     "execution_count": 14,
     "metadata": {},
     "output_type": "execute_result"
    }
   ],
   "source": [
    "#convert IP address into numeric values so that the random forest model can learn the values.\n",
    "\n",
    "def ip2long(ip):\n",
    "    \"\"\"\n",
    "    Convert an IP string to long\n",
    "    \"\"\"\n",
    "    packedIP = socket.inet_aton(ip)\n",
    "    return struct.unpack(\"!L\", packedIP)[0]\n",
    "\n",
    "df['src'] = list(map(ip2long,df['src']))\n",
    "df['dst'] = list(map(ip2long,df['dst']))\n",
    "df['orig'] = list(map(ip2long,df['orig']))\n",
    "df['proxy_src_ip'] = list(map(ip2long,df['proxy_src_ip']))\n",
    "\n"
   ]
  },
  {
   "cell_type": "code",
   "execution_count": 15,
   "metadata": {},
   "outputs": [],
   "source": [
    "#factorize the categorical features. \n",
    "df['SCADA_Tag'] = pd.factorize(df.SCADA_Tag)[0]\n",
    "df['Modbus_Function_Description'] = pd.factorize(df.Modbus_Function_Description)[0]\n",
    "df['appi_name'] = pd.factorize(df.appi_name)[0]\n",
    "df['proto'] = pd.factorize(df.proto)[0]\n",
    "df['type'] = pd.factorize(df.type)[0]"
   ]
  },
  {
   "cell_type": "code",
   "execution_count": 16,
   "metadata": {},
   "outputs": [],
   "source": [
    "#convert hex into decimal values, and split the modbus values by \";\".\n",
    "def modbus_conversion(value):\n",
    "    lst = []\n",
    "    for i in range(len(value.split(\";\"))):\n",
    "        x = value.split(\";\")[i]\n",
    "        if \" \" in x:\n",
    "            x = x.replace(\" \",\"\")\n",
    "        if '0x' in x:\n",
    "            x = x.replace(\"0x\",\"\")\n",
    "            if all(c in string.hexdigits for c in x):\n",
    "                x = struct.unpack('<f',binascii.unhexlify(x))[0]\n",
    "            else:\n",
    "                x = 0\n",
    "        x = float(x)\n",
    "        lst.append(x)\n",
    "    return lst\n",
    "\n",
    "df['Modbus_Value'] = list(map(modbus_conversion,df['Modbus_Value']))"
   ]
  },
  {
   "cell_type": "code",
   "execution_count": null,
   "metadata": {},
   "outputs": [],
   "source": [
    "df.head()"
   ]
  },
  {
   "cell_type": "code",
   "execution_count": 17,
   "metadata": {},
   "outputs": [],
   "source": [
    "#create 11 new columns to put the splitted modbus value. The length of modbus value is 9 or 11. if the length is 9, we set the \n",
    "# value of \"modbus_9\" and \"modbus_10\" as 0.\n",
    "df['Modbus_0'] = list(map(lambda x : x[0],df['Modbus_Value']))\n",
    "df['Modbus_1'] = list(map(lambda x : x[1],df['Modbus_Value']))\n",
    "df['Modbus_2'] = list(map(lambda x : x[2],df['Modbus_Value']))\n",
    "df['Modbus_3'] = list(map(lambda x : x[3],df['Modbus_Value']))\n",
    "df['Modbus_4'] = list(map(lambda x : x[4],df['Modbus_Value']))\n",
    "df['Modbus_5'] = list(map(lambda x : x[5],df['Modbus_Value']))\n",
    "df['Modbus_6'] = list(map(lambda x : x[6],df['Modbus_Value']))\n",
    "df['Modbus_7'] = list(map(lambda x : x[7],df['Modbus_Value']))\n",
    "df['Modbus_8'] = list(map(lambda x : x[8],df['Modbus_Value']))\n",
    "\n",
    "def mod9(mod):\n",
    "    if len(mod)>9:\n",
    "        return mod[9]\n",
    "    else:\n",
    "        return 0\n",
    "    \n",
    "def mod10(mod):\n",
    "    if len(mod)>9:\n",
    "        return mod[10]\n",
    "    else:\n",
    "        return 0\n",
    "\n",
    "df['Modbus_9'] = list(map(mod9,df['Modbus_Value']))\n",
    "df['Modbus_10'] = list(map(mod10,df['Modbus_Value']))"
   ]
  },
  {
   "cell_type": "code",
   "execution_count": 18,
   "metadata": {},
   "outputs": [],
   "source": [
    "df = df.drop('Modbus_Value',axis=1) #save memory"
   ]
  },
  {
   "cell_type": "code",
   "execution_count": 19,
   "metadata": {},
   "outputs": [
    {
     "name": "stderr",
     "output_type": "stream",
     "text": [
      "C:\\Users\\seeml\\Anaconda3\\lib\\site-packages\\sklearn\\preprocessing\\data.py:645: DataConversionWarning: Data with input dtype int64, float64 were all converted to float64 by StandardScaler.\n",
      "  return self.partial_fit(X, y)\n",
      "C:\\Users\\seeml\\Anaconda3\\lib\\site-packages\\sklearn\\base.py:464: DataConversionWarning: Data with input dtype int64, float64 were all converted to float64 by StandardScaler.\n",
      "  return self.fit(X, **fit_params).transform(X)\n"
     ]
    }
   ],
   "source": [
    "#standardize all numerical values\n",
    "df[['src','dst','orig','proxy_src_ip','Modbus_Function_Code','Modbus_Transaction_ID','s_port','service','Modbus_0','Modbus_1','Modbus_2','Modbus_3','Modbus_4','Modbus_5','Modbus_6','Modbus_7','Modbus_8','Modbus_9','Modbus_10']]= StandardScaler().fit_transform(df[['src','dst','orig','proxy_src_ip','Modbus_Function_Code','Modbus_Transaction_ID','s_port','service','Modbus_0','Modbus_1','Modbus_2','Modbus_3','Modbus_4','Modbus_5','Modbus_6','Modbus_7','Modbus_8','Modbus_9','Modbus_10']])"
   ]
  },
  {
   "cell_type": "code",
   "execution_count": 20,
   "metadata": {},
   "outputs": [
    {
     "data": {
      "text/html": [
       "<div>\n",
       "<style scoped>\n",
       "    .dataframe tbody tr th:only-of-type {\n",
       "        vertical-align: middle;\n",
       "    }\n",
       "\n",
       "    .dataframe tbody tr th {\n",
       "        vertical-align: top;\n",
       "    }\n",
       "\n",
       "    .dataframe thead th {\n",
       "        text-align: right;\n",
       "    }\n",
       "</style>\n",
       "<table border=\"1\" class=\"dataframe\">\n",
       "  <thead>\n",
       "    <tr style=\"text-align: right;\">\n",
       "      <th></th>\n",
       "      <th>orig</th>\n",
       "      <th>type</th>\n",
       "      <th>src</th>\n",
       "      <th>dst</th>\n",
       "      <th>proto</th>\n",
       "      <th>appi_name</th>\n",
       "      <th>proxy_src_ip</th>\n",
       "      <th>Modbus_Function_Code</th>\n",
       "      <th>Modbus_Function_Description</th>\n",
       "      <th>Modbus_Transaction_ID</th>\n",
       "      <th>...</th>\n",
       "      <th>Modbus_1</th>\n",
       "      <th>Modbus_2</th>\n",
       "      <th>Modbus_3</th>\n",
       "      <th>Modbus_4</th>\n",
       "      <th>Modbus_5</th>\n",
       "      <th>Modbus_6</th>\n",
       "      <th>Modbus_7</th>\n",
       "      <th>Modbus_8</th>\n",
       "      <th>Modbus_9</th>\n",
       "      <th>Modbus_10</th>\n",
       "    </tr>\n",
       "  </thead>\n",
       "  <tbody>\n",
       "    <tr>\n",
       "      <th>0</th>\n",
       "      <td>0.0</td>\n",
       "      <td>0</td>\n",
       "      <td>-0.210568</td>\n",
       "      <td>1.664708</td>\n",
       "      <td>0</td>\n",
       "      <td>0</td>\n",
       "      <td>-0.210568</td>\n",
       "      <td>0.0</td>\n",
       "      <td>0</td>\n",
       "      <td>-1.327985</td>\n",
       "      <td>...</td>\n",
       "      <td>0.0</td>\n",
       "      <td>0.0</td>\n",
       "      <td>0.755749</td>\n",
       "      <td>1.022868</td>\n",
       "      <td>1.141776</td>\n",
       "      <td>0.874877</td>\n",
       "      <td>-0.599166</td>\n",
       "      <td>1.175555</td>\n",
       "      <td>-0.492220</td>\n",
       "      <td>-0.493917</td>\n",
       "    </tr>\n",
       "    <tr>\n",
       "      <th>1</th>\n",
       "      <td>0.0</td>\n",
       "      <td>0</td>\n",
       "      <td>1.211750</td>\n",
       "      <td>-1.330415</td>\n",
       "      <td>0</td>\n",
       "      <td>0</td>\n",
       "      <td>1.211750</td>\n",
       "      <td>0.0</td>\n",
       "      <td>0</td>\n",
       "      <td>-1.004442</td>\n",
       "      <td>...</td>\n",
       "      <td>0.0</td>\n",
       "      <td>0.0</td>\n",
       "      <td>0.929126</td>\n",
       "      <td>0.590794</td>\n",
       "      <td>0.302460</td>\n",
       "      <td>0.874877</td>\n",
       "      <td>-0.599166</td>\n",
       "      <td>0.186529</td>\n",
       "      <td>-0.492220</td>\n",
       "      <td>-0.493917</td>\n",
       "    </tr>\n",
       "    <tr>\n",
       "      <th>2</th>\n",
       "      <td>0.0</td>\n",
       "      <td>0</td>\n",
       "      <td>-1.158779</td>\n",
       "      <td>-0.332040</td>\n",
       "      <td>0</td>\n",
       "      <td>0</td>\n",
       "      <td>-1.158779</td>\n",
       "      <td>0.0</td>\n",
       "      <td>0</td>\n",
       "      <td>1.578935</td>\n",
       "      <td>...</td>\n",
       "      <td>0.0</td>\n",
       "      <td>0.0</td>\n",
       "      <td>-1.145332</td>\n",
       "      <td>-1.133181</td>\n",
       "      <td>-1.096400</td>\n",
       "      <td>-1.152628</td>\n",
       "      <td>1.606104</td>\n",
       "      <td>-1.094262</td>\n",
       "      <td>2.027842</td>\n",
       "      <td>2.024630</td>\n",
       "    </tr>\n",
       "    <tr>\n",
       "      <th>3</th>\n",
       "      <td>0.0</td>\n",
       "      <td>0</td>\n",
       "      <td>1.211750</td>\n",
       "      <td>-0.332040</td>\n",
       "      <td>0</td>\n",
       "      <td>0</td>\n",
       "      <td>1.211750</td>\n",
       "      <td>0.0</td>\n",
       "      <td>0</td>\n",
       "      <td>1.318821</td>\n",
       "      <td>...</td>\n",
       "      <td>0.0</td>\n",
       "      <td>0.0</td>\n",
       "      <td>-1.134062</td>\n",
       "      <td>-1.122272</td>\n",
       "      <td>-1.076956</td>\n",
       "      <td>-1.128298</td>\n",
       "      <td>-0.590040</td>\n",
       "      <td>-1.078448</td>\n",
       "      <td>-0.492220</td>\n",
       "      <td>-0.493917</td>\n",
       "    </tr>\n",
       "    <tr>\n",
       "      <th>4</th>\n",
       "      <td>0.0</td>\n",
       "      <td>0</td>\n",
       "      <td>-0.684674</td>\n",
       "      <td>0.666334</td>\n",
       "      <td>0</td>\n",
       "      <td>0</td>\n",
       "      <td>-0.684674</td>\n",
       "      <td>0.0</td>\n",
       "      <td>0</td>\n",
       "      <td>0.349883</td>\n",
       "      <td>...</td>\n",
       "      <td>0.0</td>\n",
       "      <td>0.0</td>\n",
       "      <td>0.929126</td>\n",
       "      <td>1.022868</td>\n",
       "      <td>1.141776</td>\n",
       "      <td>0.874877</td>\n",
       "      <td>-0.599166</td>\n",
       "      <td>1.257596</td>\n",
       "      <td>-0.492220</td>\n",
       "      <td>-0.493917</td>\n",
       "    </tr>\n",
       "  </tbody>\n",
       "</table>\n",
       "<p>5 rows × 26 columns</p>\n",
       "</div>"
      ],
      "text/plain": [
       "   orig  type       src       dst  proto  appi_name  proxy_src_ip  \\\n",
       "0   0.0     0 -0.210568  1.664708      0          0     -0.210568   \n",
       "1   0.0     0  1.211750 -1.330415      0          0      1.211750   \n",
       "2   0.0     0 -1.158779 -0.332040      0          0     -1.158779   \n",
       "3   0.0     0  1.211750 -0.332040      0          0      1.211750   \n",
       "4   0.0     0 -0.684674  0.666334      0          0     -0.684674   \n",
       "\n",
       "   Modbus_Function_Code  Modbus_Function_Description  Modbus_Transaction_ID  \\\n",
       "0                   0.0                            0              -1.327985   \n",
       "1                   0.0                            0              -1.004442   \n",
       "2                   0.0                            0               1.578935   \n",
       "3                   0.0                            0               1.318821   \n",
       "4                   0.0                            0               0.349883   \n",
       "\n",
       "   ...  Modbus_1  Modbus_2  Modbus_3  Modbus_4  Modbus_5  Modbus_6  Modbus_7  \\\n",
       "0  ...       0.0       0.0  0.755749  1.022868  1.141776  0.874877 -0.599166   \n",
       "1  ...       0.0       0.0  0.929126  0.590794  0.302460  0.874877 -0.599166   \n",
       "2  ...       0.0       0.0 -1.145332 -1.133181 -1.096400 -1.152628  1.606104   \n",
       "3  ...       0.0       0.0 -1.134062 -1.122272 -1.076956 -1.128298 -0.590040   \n",
       "4  ...       0.0       0.0  0.929126  1.022868  1.141776  0.874877 -0.599166   \n",
       "\n",
       "   Modbus_8  Modbus_9  Modbus_10  \n",
       "0  1.175555 -0.492220  -0.493917  \n",
       "1  0.186529 -0.492220  -0.493917  \n",
       "2 -1.094262  2.027842   2.024630  \n",
       "3 -1.078448 -0.492220  -0.493917  \n",
       "4  1.257596 -0.492220  -0.493917  \n",
       "\n",
       "[5 rows x 26 columns]"
      ]
     },
     "execution_count": 20,
     "metadata": {},
     "output_type": "execute_result"
    }
   ],
   "source": [
    "df.head() #what does df look like after pre-processing"
   ]
  },
  {
   "cell_type": "code",
   "execution_count": 21,
   "metadata": {},
   "outputs": [],
   "source": [
    "#split the data into train and test.\n",
    "y = df['Tag']\n",
    "\n",
    "z = df['sec']\n",
    "\n",
    "df = df.drop('Tag',axis=1)\n",
    "\n",
    "df = df.drop('sec',axis=1)\n",
    "\n",
    "x = df.values\n",
    "\n",
    "X_train, X_test, y_train, y_test,z_train,z_test=train_test_split(x,y,z,test_size = 0.25)"
   ]
  },
  {
   "cell_type": "markdown",
   "metadata": {},
   "source": [
    "## random forest classifier"
   ]
  },
  {
   "cell_type": "code",
   "execution_count": 22,
   "metadata": {},
   "outputs": [
    {
     "data": {
      "text/plain": [
       "RandomForestClassifier(bootstrap=True, class_weight=None, criterion='gini',\n",
       "            max_depth=None, max_features='auto', max_leaf_nodes=None,\n",
       "            min_impurity_decrease=0.0, min_impurity_split=None,\n",
       "            min_samples_leaf=1, min_samples_split=2,\n",
       "            min_weight_fraction_leaf=0.0, n_estimators=10, n_jobs=None,\n",
       "            oob_score=False, random_state=0, verbose=0, warm_start=False)"
      ]
     },
     "execution_count": 22,
     "metadata": {},
     "output_type": "execute_result"
    }
   ],
   "source": [
    "regressor = RandomForestClassifier(n_estimators=10, random_state=0)  \n",
    "regressor.fit(X_train, y_train)  "
   ]
  },
  {
   "cell_type": "code",
   "execution_count": 23,
   "metadata": {},
   "outputs": [],
   "source": [
    "#Predictions\n",
    "y_pred = regressor.predict(X_test) "
   ]
  },
  {
   "cell_type": "code",
   "execution_count": 24,
   "metadata": {},
   "outputs": [
    {
     "data": {
      "text/plain": [
       "array([[2901101,   70801],\n",
       "       [  50817,   79478]], dtype=int64)"
      ]
     },
     "execution_count": 24,
     "metadata": {},
     "output_type": "execute_result"
    }
   ],
   "source": [
    "#confusion matrix\n",
    "matrix = confusion_matrix(y_pred,y_test)\n",
    "matrix"
   ]
  },
  {
   "cell_type": "code",
   "execution_count": 25,
   "metadata": {},
   "outputs": [
    {
     "name": "stdout",
     "output_type": "stream",
     "text": [
      "false negative rate: 0.471130\n",
      "false positive rate: 0.017215\n"
     ]
    }
   ],
   "source": [
    "# normal: negative , attack:postive\n",
    "\n",
    "#false negative rate\n",
    "fnr = matrix[0][1]/(matrix[1][1]+matrix[0][1])\n",
    "#false positive rate\n",
    "fpr = matrix[1][0]/(matrix[0][0]+matrix[1][0])\n",
    "print(\"false negative rate: %f\"%fnr)\n",
    "print(\"false positive rate: %f\"%fpr)"
   ]
  },
  {
   "cell_type": "markdown",
   "metadata": {},
   "source": [
    "## random forest regressor"
   ]
  },
  {
   "cell_type": "code",
   "execution_count": 27,
   "metadata": {},
   "outputs": [
    {
     "data": {
      "text/plain": [
       "RandomForestRegressor(bootstrap=True, criterion='mse', max_depth=None,\n",
       "           max_features='auto', max_leaf_nodes=None,\n",
       "           min_impurity_decrease=0.0, min_impurity_split=None,\n",
       "           min_samples_leaf=1, min_samples_split=2,\n",
       "           min_weight_fraction_leaf=0.0, n_estimators=10, n_jobs=None,\n",
       "           oob_score=False, random_state=0, verbose=0, warm_start=False)"
      ]
     },
     "execution_count": 27,
     "metadata": {},
     "output_type": "execute_result"
    }
   ],
   "source": [
    "#to check whether the random forest learn the time\n",
    "model = RandomForestRegressor(random_state=0, n_estimators=10)\n",
    "model.fit(X_train, z_train)"
   ]
  },
  {
   "cell_type": "code",
   "execution_count": 28,
   "metadata": {},
   "outputs": [],
   "source": [
    "y_test =y_test.values.tolist()\n",
    "attack_ind = []\n",
    "for i in range(len(y_test)):\n",
    "    if y_test[i] == 1:\n",
    "        attack_ind.append(i)\n"
   ]
  },
  {
   "cell_type": "code",
   "execution_count": 29,
   "metadata": {},
   "outputs": [],
   "source": [
    "z_test = z_test.values.tolist()"
   ]
  },
  {
   "cell_type": "code",
   "execution_count": 31,
   "metadata": {},
   "outputs": [],
   "source": [
    "def cl(a,b):\n",
    "    l=[]\n",
    "    for i in range(len(b)):\n",
    "        l.append(a[i])\n",
    "    return l"
   ]
  },
  {
   "cell_type": "code",
   "execution_count": 32,
   "metadata": {},
   "outputs": [],
   "source": [
    "x_rtest = cl(X_test,attack_ind)\n",
    "z_rtest = cl(z_test,attack_ind)"
   ]
  },
  {
   "cell_type": "code",
   "execution_count": 33,
   "metadata": {},
   "outputs": [],
   "source": [
    "# predictions\n",
    "pred = model.predict(x_rtest)\n",
    "\n",
    "res = pred - z_rtest\n",
    "\n",
    "res = np.array(res)\n",
    "\n",
    "\n",
    "#if the residual is within 60 secs, we say that it is a good prediction.\n",
    "c = 0\n",
    "for i in range(len(res)):\n",
    "    if abs(res[i])<=60:\n",
    "        c += 1\n"
   ]
  },
  {
   "cell_type": "code",
   "execution_count": 34,
   "metadata": {},
   "outputs": [
    {
     "name": "stdout",
     "output_type": "stream",
     "text": [
      "0.31684400348684777\n"
     ]
    }
   ],
   "source": [
    "# accuracy that residuals are within 60 secs.\n",
    "print(c/len(res))"
   ]
  },
  {
   "cell_type": "code",
   "execution_count": 35,
   "metadata": {},
   "outputs": [
    {
     "name": "stdout",
     "output_type": "stream",
     "text": [
      "0.2875318574118806\n"
     ]
    }
   ],
   "source": [
    "# accuracy that residuals are within 10 secs.\n",
    "d = 0\n",
    "for i in range(len(res)):\n",
    "    if abs(res[i])<=10:\n",
    "        d+= 1\n",
    "\n",
    "\n",
    "print(d/len(res))"
   ]
  },
  {
   "cell_type": "markdown",
   "metadata": {},
   "source": [
    "## Further steps on Random Forest"
   ]
  },
  {
   "cell_type": "code",
   "execution_count": 36,
   "metadata": {},
   "outputs": [],
   "source": [
    "#z_test = z_test.values.tolist()\n",
    "#get the test set for sec values.\n",
    "cc =[]\n",
    "for j in range(min(z_test),(max(z_test)+1)):\n",
    "    a = [i for i, value in enumerate(z_test) if value == j]\n",
    "    cc.append(a)\n",
    "\n",
    "#y_test =y_test.values.tolist()\n",
    "y_test = np.array(y_test)"
   ]
  },
  {
   "cell_type": "code",
   "execution_count": 37,
   "metadata": {},
   "outputs": [],
   "source": [
    "# since for each sec, the label should be the same. so we relabel for each sec and create a new list to store the label.\n",
    "def gety(y,c):\n",
    "    ls = []\n",
    "    for i in range(len(c)):\n",
    "        if np.mean(y[c[i]]) == 1:\n",
    "            ls.append(1)\n",
    "        else:\n",
    "            ls.append(0)\n",
    "    return ls\n",
    "y_new = gety(y_test,cc)       "
   ]
  },
  {
   "cell_type": "code",
   "execution_count": 38,
   "metadata": {},
   "outputs": [],
   "source": [
    "#for predictions, if the proportion of attack is beyond threshold, we say that it is an attack for that sec.\n",
    "def getp(p,c):\n",
    "    ls =[]\n",
    "    for i in range(len(c)):\n",
    "        if np.mean(p[c[i]]) >= 0.35:\n",
    "            ls.append(1)\n",
    "        else:\n",
    "            ls.append(0)\n",
    "    return ls\n",
    "pred_new = getp(y_pred,cc)"
   ]
  },
  {
   "cell_type": "code",
   "execution_count": 39,
   "metadata": {
    "scrolled": true
   },
   "outputs": [
    {
     "data": {
      "text/plain": [
       "array([[64430,   372],\n",
       "       [    0,  2910]], dtype=int64)"
      ]
     },
     "execution_count": 39,
     "metadata": {},
     "output_type": "execute_result"
    }
   ],
   "source": [
    "# new confusion matrix\n",
    "matrix1 = confusion_matrix(pred_new,y_new)\n",
    "matrix1"
   ]
  },
  {
   "cell_type": "code",
   "execution_count": 40,
   "metadata": {},
   "outputs": [
    {
     "name": "stdout",
     "output_type": "stream",
     "text": [
      "false negative rate: 0.113346\n",
      "false positive rate: 0.000000\n"
     ]
    }
   ],
   "source": [
    "#false negative rate\n",
    "fnr1 = matrix1[0][1]/(matrix1[1][1]+matrix1[0][1])\n",
    "#false positive rate\n",
    "fpr1 = matrix1[1][0]/(matrix1[0][0]+matrix1[1][0])\n",
    "print(\"false negative rate: %f\"%fnr1)\n",
    "print(\"false positive rate: %f\"%fpr1)"
   ]
  },
  {
   "cell_type": "code",
   "execution_count": 41,
   "metadata": {},
   "outputs": [
    {
     "data": {
      "text/plain": [
       "array([0.00000000e+00, 0.00000000e+00, 1.26319707e-03, 1.51067982e-04,\n",
       "       0.00000000e+00, 0.00000000e+00, 3.30744228e-04, 0.00000000e+00,\n",
       "       0.00000000e+00, 6.36117345e-01, 1.07054511e-04, 0.00000000e+00,\n",
       "       5.44209426e-05, 7.84009708e-02, 0.00000000e+00, 0.00000000e+00,\n",
       "       8.49798994e-04, 2.83255318e-03, 7.43195641e-07, 4.61734791e-04,\n",
       "       2.08292431e-01, 6.35153243e-02, 6.85586704e-03, 7.66747360e-04])"
      ]
     },
     "execution_count": 41,
     "metadata": {},
     "output_type": "execute_result"
    }
   ],
   "source": [
    "# importance of features\n",
    "regressor.feature_importances_"
   ]
  },
  {
   "cell_type": "markdown",
   "metadata": {},
   "source": [
    "## ROC Curves"
   ]
  },
  {
   "cell_type": "code",
   "execution_count": 42,
   "metadata": {},
   "outputs": [],
   "source": [
    "thresholds = 0.3"
   ]
  },
  {
   "cell_type": "code",
   "execution_count": 43,
   "metadata": {},
   "outputs": [],
   "source": [
    "def plot_roc_curve(fpr, tpr,i):\n",
    "    plt.plot(fpr, tpr, color='orange', label='ROC')\n",
    "    plt.plot([0, 1], [0, 1], color='darkblue', linestyle='--')\n",
    "    plt.xlabel('False Positive Rate')\n",
    "    plt.ylabel('True Positive Rate')\n",
    "    plt.title('Receiver Operating Characteristic (ROC) Curve')\n",
    "    plt.legend()\n",
    "    plt.savefig(\"roc%i.png\"%i)\n",
    "    plt.show()\n",
    "    "
   ]
  },
  {
   "cell_type": "code",
   "execution_count": 44,
   "metadata": {},
   "outputs": [
    {
     "data": {
      "image/png": "[encoded data removed]",
      "text/plain": [
       "<Figure size 432x288 with 1 Axes>"
      ]
     },
     "metadata": {
      "needs_background": "light"
     },
     "output_type": "display_data"
    }
   ],
   "source": [
    "#  ROC for old confusion matrix\n",
    "fpr, tpr, thresholds = roc_curve(y_test, y_pred)\n",
    "\n",
    "plot_roc_curve(fpr,tpr,1)\n"
   ]
  },
  {
   "cell_type": "code",
   "execution_count": 46,
   "metadata": {},
   "outputs": [
    {
     "data": {
      "image/png": "[encoded data removed]",
      "text/plain": [
       "<Figure size 432x288 with 1 Axes>"
      ]
     },
     "metadata": {
      "needs_background": "light"
     },
     "output_type": "display_data"
    }
   ],
   "source": [
    "#  ROC for new confusion matrix\n",
    "fpr1, tpr1, thresholds = roc_curve(y_new, pred_new)\n",
    "\n",
    "plot_roc_curve(fpr1,tpr1,2)"
   ]
  },
  {
   "cell_type": "markdown",
   "metadata": {},
   "source": [
    "\n"
   ]
  }
 ],
 "metadata": {
  "kernelspec": {
   "display_name": "Python 3",
   "language": "python",
   "name": "python3"
  },
  "language_info": {
   "codemirror_mode": {
    "name": "ipython",
    "version": 3
   },
   "file_extension": ".py",
   "mimetype": "text/x-python",
   "name": "python",
   "nbconvert_exporter": "python",
   "pygments_lexer": "ipython3",
   "version": "3.6.7"
  }
 },
 "nbformat": 4,
 "nbformat_minor": 2
}

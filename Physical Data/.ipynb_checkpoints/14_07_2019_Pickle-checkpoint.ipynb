{
 "cells": [
  {
   "cell_type": "markdown",
   "metadata": {},
   "source": [
    "# Set Up Data"
   ]
  },
  {
   "cell_type": "code",
   "execution_count": 1,
   "metadata": {},
   "outputs": [],
   "source": [
    "# import the required packages and preliminaries\n",
    "import csv\n",
    "import pandas as pd\n",
    "import matplotlib.pyplot as plt\n",
    "import numpy as np\n",
    "from sklearn import linear_model\n",
    "from sklearn import tree\n",
    "import math\n",
    "import os\n",
    "import time\n",
    "from IPython.display import clear_output\n",
    "import pickle"
   ]
  },
  {
   "cell_type": "code",
   "execution_count": 2,
   "metadata": {},
   "outputs": [],
   "source": [
    "path=\"/Pickles\"\n",
    "pickleFolder=os.getcwd()+path"
   ]
  },
  {
   "cell_type": "code",
   "execution_count": 3,
   "metadata": {},
   "outputs": [],
   "source": [
    "dataAtck=pd.read_pickle(pickleFolder+\"/BaseAttackDataframe.pkl\")\n",
    "dataNorm=pd.read_pickle(pickleFolder+\"/BaseNormalDataframe.pkl\")"
   ]
  },
  {
   "cell_type": "markdown",
   "metadata": {},
   "source": [
    "# New Data Transformations & Fitting Models"
   ]
  },
  {
   "cell_type": "code",
   "execution_count": 4,
   "metadata": {},
   "outputs": [],
   "source": [
    "actuator_list=[\"MV101\",\"P101\",\"P102\",\"MV201\",\"P201\",\"P202\",\"P203\",\"P204\",\"P205\",\"P206\",\"MV301\",\"MV302\",\"MV303\",\"MV304\",\"P301\",\"P302\",\"P401\",\"P402\",\"P403\",\"P404\",\"P501\",\"P502\",\"P601\",\"P602\",\"P603\"]"
   ]
  },
  {
   "cell_type": "code",
   "execution_count": 5,
   "metadata": {},
   "outputs": [],
   "source": [
    "# General regression dataframe pickles\n",
    "\n",
    "dataAtck_reg_adpt=pd.read_pickle(pickleFolder+\"/GeneralRegressionDataframeAttack.pkl\")\n",
    "dataNorm_reg_adpt=pd.read_pickle(pickleFolder+\"/GeneralRegressionDataframeNormal.pkl\")"
   ]
  },
  {
   "cell_type": "code",
   "execution_count": 6,
   "metadata": {},
   "outputs": [],
   "source": [
    "# Linear regression dataframe pickles\n",
    "\n",
    "AY_linreg=pd.read_pickle(pickleFolder+\"/LinearRegressionDataframeAttack.pkl\")\n",
    "Y_linreg=pd.read_pickle(pickleFolder+\"/LinearRegressionDataframeNormal.pkl\")"
   ]
  },
  {
   "cell_type": "code",
   "execution_count": 7,
   "metadata": {},
   "outputs": [],
   "source": [
    "# Linear Regressors pickle\n",
    "\n",
    "outfile=open(pickleFolder+\"/LinearRegressors\",\"rb\")\n",
    "d_lin=pickle.load(outfile)"
   ]
  },
  {
   "cell_type": "markdown",
   "metadata": {},
   "source": [
    "# Prediction Lists and Histograms"
   ]
  },
  {
   "cell_type": "code",
   "execution_count": 26,
   "metadata": {},
   "outputs": [],
   "source": [
    "normalIndex=list(dataAtck.iloc[list(dataAtck[\"Normal/Attack\"]==\"Normal\")].index)\n",
    "attackIndex=list(dataAtck.iloc[list(dataAtck[\"Normal/Attack\"]!=\"Normal\")].index)"
   ]
  },
  {
   "cell_type": "code",
   "execution_count": 27,
   "metadata": {},
   "outputs": [],
   "source": [
    "# Normal and Attack Prediction-Observation difference lists pickles\n",
    "\n",
    "infile=open(pickleFolder+\"/NormalPredictionDifferenceList\",\"rb\")\n",
    "difference_list=pickle.load(infile)\n",
    "infile=open(pickleFolder+\"/AttackPredictionDifferenceList\",\"rb\")\n",
    "attack_difference_list=pickle.load(infile)"
   ]
  },
  {
   "cell_type": "code",
   "execution_count": 28,
   "metadata": {},
   "outputs": [],
   "source": [
    "# Normal Histogram p-Value dataframe pickle\n",
    "\n",
    "pvalue_data=pd.read_pickle(pickleFolder+\"/histogramPValueDataframe.pkl\")"
   ]
  },
  {
   "cell_type": "markdown",
   "metadata": {},
   "source": [
    "#### Generate attack_difference list (tick)\n",
    "#### Reference to histogram data (tick)\n",
    "#### Gain P-value dataset (tick)\n",
    "#### Combine with Fisher or Simes'\n",
    "#### Add previous 20 if we have tail\n",
    "#### Generate graph and roc curve"
   ]
  },
  {
   "cell_type": "code",
   "execution_count": 36,
   "metadata": {},
   "outputs": [],
   "source": [
    "twentySecondSum=False"
   ]
  },
  {
   "cell_type": "markdown",
   "metadata": {},
   "source": [
    "# Finding P-Values"
   ]
  },
  {
   "cell_type": "code",
   "execution_count": 32,
   "metadata": {},
   "outputs": [],
   "source": [
    "# Attack p-Value Dataset pickle\n",
    "\n",
    "#attack_pvalues=pd.read_pickle(pickleFolder+\"/attackPValueDataframe.pkl\")\n",
    "attack_diff_data=pd.DataFrame([],columns=actuator_list).copy()\n",
    "for col in attack_diff_data:\n",
    "    attack_diff_data[col]=attack_difference_list[\"diff_{0}\".format(col)]"
   ]
  },
  {
   "cell_type": "code",
   "execution_count": 33,
   "metadata": {},
   "outputs": [
    {
     "name": "stdout",
     "output_type": "stream",
     "text": [
      "MV101\n",
      "P101\n",
      "P102\n",
      "MV201\n",
      "P201\n",
      "P202\n",
      "P203\n",
      "P204\n",
      "P205\n",
      "P206\n",
      "MV301\n",
      "MV302\n",
      "MV303\n",
      "MV304\n",
      "P301\n",
      "P302\n",
      "P401\n",
      "P402\n",
      "P403\n",
      "P404\n",
      "P501\n",
      "P502\n",
      "P601\n",
      "P602\n",
      "P603\n"
     ]
    }
   ],
   "source": [
    "bin_ref_data=((attack_diff_data+4)/0.05).copy()\n",
    "attack_pvalues=bin_ref_data.copy()\n",
    "#rowVec=[]\n",
    "for col in bin_ref_data:\n",
    "    print(col)\n",
    "    L=np.array([math.floor(x) for x in bin_ref_data[col]])\n",
    "    for i in range(0,len(bin_ref_data)):\n",
    "        try:\n",
    "            if pvalue_data[col][L[i]]!=0:\n",
    "                attack_pvalues[col][i]=pvalue_data[col][L[i]]\n",
    "            else:\n",
    "                attack_pvalues[col][i]=0.000001\n",
    "        except:\n",
    "            attack_pvalues[col][i]=0.000001\n",
    "    #i=19\n",
    "    #try:\n",
    "    #    rowVec.append(pvalue_data[col][L[i]])\n",
    "    #except:\n",
    "    #    rowVec.append(0.00001)"
   ]
  },
  {
   "cell_type": "markdown",
   "metadata": {},
   "source": [
    "#### Fisher's Method"
   ]
  },
  {
   "cell_type": "code",
   "execution_count": 35,
   "metadata": {},
   "outputs": [],
   "source": [
    "combinedValue=np.array([])\n",
    "for x in attack_pvalues.values:\n",
    "    combinedValue=np.hstack((combinedValue,sum(np.log(x))))\n",
    "attack_pvalues[\"Combined\"]=-2*combinedValue"
   ]
  },
  {
   "cell_type": "code",
   "execution_count": 39,
   "metadata": {},
   "outputs": [],
   "source": [
    "pvalue_dataframe_combineTime=attack_pvalues.copy()\n",
    "if twentySecondSum==True:\n",
    "    for t in range(0,len(attack_pvalues[\"Combined\"])):\n",
    "        pvalue_dataframe_combineTime[\"Combined\"][t]=sum(pvalue_dataframe[\"Combined\"][max(0,t-19):t+1])"
   ]
  },
  {
   "cell_type": "markdown",
   "metadata": {},
   "source": [
    "#### Simes' Method"
   ]
  },
  {
   "cell_type": "code",
   "execution_count": null,
   "metadata": {},
   "outputs": [],
   "source": []
  },
  {
   "cell_type": "markdown",
   "metadata": {},
   "source": [
    "# ROC curve"
   ]
  },
  {
   "cell_type": "code",
   "execution_count": 40,
   "metadata": {},
   "outputs": [],
   "source": [
    "h=open(\"/home/sharding/Documents/SummerProject/Data/AttackList_Indexed.csv\",\"r+\")\n",
    "file_atcklist=csv.reader(h)\n",
    "top=next(file_atcklist)\n",
    "attack_list=pd.DataFrame(file_atcklist)"
   ]
  },
  {
   "cell_type": "markdown",
   "metadata": {},
   "source": [
    "Create attack time bins (with a tail)"
   ]
  },
  {
   "cell_type": "code",
   "execution_count": 41,
   "metadata": {},
   "outputs": [],
   "source": [
    "tail=120\n",
    "base=time.strptime('12/28/2015 10:00:00', '%m/%d/%Y %H:%M:%S')\n",
    "attack_start_times=[]\n",
    "for t in range(0,len(attack_list)):\n",
    "    attack_start_times.append(int(time.mktime(time.strptime(attack_list.iloc[t][1], '%m/%d/%Y %H:%M:%S'))-time.mktime(base)))\n",
    "attack_start_times=np.array(attack_start_times)\n",
    "attack_end_times=[]\n",
    "for t in range(0,len(attack_list)):\n",
    "    attack_end_times.append(int(time.mktime(time.strptime(attack_list.iloc[t][2], '%m/%d/%Y %H:%M:%S'))-time.mktime(base)+tail))\n",
    "attack_end_times=np.array(attack_end_times)\n",
    "attack_bins=np.transpose(np.vstack((attack_start_times,attack_end_times)))"
   ]
  },
  {
   "cell_type": "markdown",
   "metadata": {},
   "source": [
    "Give each combined pvalue a time signature"
   ]
  },
  {
   "cell_type": "code",
   "execution_count": 42,
   "metadata": {},
   "outputs": [],
   "source": [
    "pvalue_dataframe_combineTime[\"Time\"]=np.array([int(time.mktime(time.strptime(t, \" %d/%m/%Y %I:%M:%S %p\"))-time.mktime(base)) for t in np.array(dataAtck[\"Timestamp\"][1:])])"
   ]
  },
  {
   "cell_type": "markdown",
   "metadata": {},
   "source": [
    "Load in the dataset of times where no attacks took place"
   ]
  },
  {
   "cell_type": "code",
   "execution_count": 43,
   "metadata": {},
   "outputs": [],
   "source": [
    "no_attack_true_false=(dataAtck[\"Normal/Attack\"]==\"Normal\")[:-1]"
   ]
  },
  {
   "cell_type": "code",
   "execution_count": 44,
   "metadata": {},
   "outputs": [],
   "source": [
    "#no_attack_dataset=pd.read_pickle(pickleFolder+\"/NoAttackDataset.pkl\")\n",
    "no_attack_dataset=pvalue_dataframe_combineTime[no_attack_true_false]"
   ]
  },
  {
   "cell_type": "code",
   "execution_count": 46,
   "metadata": {},
   "outputs": [
    {
     "data": {
      "text/plain": [
       "386.83429562299966"
      ]
     },
     "execution_count": 46,
     "metadata": {},
     "output_type": "execute_result"
    }
   ],
   "source": [
    "max(np.array(pvalue_dataframe_combineTime[\"Combined\"]))"
   ]
  },
  {
   "cell_type": "markdown",
   "metadata": {},
   "source": [
    "Create confusion matrices for all detection cut-off values, p"
   ]
  },
  {
   "cell_type": "code",
   "execution_count": 47,
   "metadata": {},
   "outputs": [
    {
     "name": "stdout",
     "output_type": "stream",
     "text": [
      "399\n"
     ]
    }
   ],
   "source": [
    "TP_array=np.array([])\n",
    "FN_array=np.array([])\n",
    "FP_array=np.array([])\n",
    "TN_array=np.array([])\n",
    "\n",
    "no_attack_time_list=range(0,np.array(pvalue_dataframe_combineTime[\"Time\"])[-1]+1)\n",
    "for x in attack_bins:\n",
    "    no_attack_time_list=[t for t in no_attack_time_list if t<x[0] or t>x[1]]\n",
    "num_no_attacks=len(no_attack_time_list)\n",
    "\n",
    "for p in range(0,400):\n",
    "    TP=0\n",
    "    FN=0\n",
    "    for x in attack_bins:\n",
    "        bin_dataset=pvalue_dataframe_combineTime[\"Combined\"][np.multiply(np.array(pvalue_dataframe_combineTime[\"Time\"]>=x[0]),np.array(pvalue_dataframe_combineTime[\"Time\"]<=x[1]))]\n",
    "        if all(bin_dataset<p)==True:\n",
    "            FN=FN+1\n",
    "        else:\n",
    "            TP=TP+1\n",
    "    TP_array=np.hstack((TP_array,TP))\n",
    "    FN_array=np.hstack((FN_array,FN))\n",
    "    \n",
    "    no_attack_pvalues=no_attack_dataset[\"Combined\"]\n",
    "    FP=sum(np.array(no_attack_pvalues>p))\n",
    "    TN=num_no_attacks-FP\n",
    "    FP_array=np.hstack((FP_array,FP))\n",
    "    TN_array=np.hstack((TN_array,TN))\n",
    "    clear_output()\n",
    "    print(p)"
   ]
  },
  {
   "cell_type": "code",
   "execution_count": 48,
   "metadata": {},
   "outputs": [],
   "source": [
    "conditionPositive=TP_array+FN_array\n",
    "conditionNegative=TN_array+FP_array"
   ]
  },
  {
   "cell_type": "code",
   "execution_count": 49,
   "metadata": {},
   "outputs": [],
   "source": [
    "TPR_array=TP_array/conditionPositive\n",
    "FPR_array=FP_array/conditionNegative"
   ]
  },
  {
   "cell_type": "code",
   "execution_count": 63,
   "metadata": {},
   "outputs": [],
   "source": [
    "folder_extension=\"/LINEAR/FISHER/NOTAIL\""
   ]
  },
  {
   "cell_type": "code",
   "execution_count": 64,
   "metadata": {},
   "outputs": [],
   "source": [
    "with open(pickleFolder+folder_extension+'/FPR_array.pkl', 'wb') as handle:\n",
    "    pickle.dump(FPR_array,handle)\n",
    "with open(pickleFolder+folder_extension+'/TPR_array.pkl', 'wb') as handle:\n",
    "    pickle.dump(TPR_array,handle)"
   ]
  },
  {
   "cell_type": "code",
   "execution_count": 65,
   "metadata": {},
   "outputs": [
    {
     "data": {
      "image/png": "[encoded data removed]",
      "text/plain": [
       "<Figure size 1440x720 with 1 Axes>"
      ]
     },
     "metadata": {
      "needs_background": "light"
     },
     "output_type": "display_data"
    }
   ],
   "source": [
    "plt.figure(figsize=(20,10))\n",
    "for m in attack_start_times:\n",
    "    plt.axvline(x=m,color=\"r\",linestyle=\"-\")\n",
    "twenty_sec=np.arange(0,no_attack_time_list[-1],20)\n",
    "plt.plot(pvalue_dataframe_combineTime[\"Time\"],pvalue_dataframe_combineTime[\"Combined\"],\".b\")\n",
    "plt.xlabel(\"Timestep (red lines = attack start times)\")\n",
    "plt.ylabel(\"Combined P-Value\")\n",
    "plt.title(\"P-value Graph (LINEAR REGRESSION, FISHER'S METHOD, NO 20SEC SUM)\")\n",
    "plt.savefig(pickleFolder+folder_extension+\"/graph.png\")\n",
    "plt.show()"
   ]
  },
  {
   "cell_type": "code",
   "execution_count": 67,
   "metadata": {},
   "outputs": [
    {
     "data": {
      "text/plain": [
       "Text(0.5, 1, \"ROC curve (LINEAR REGRESSION, FISHER'S METHOD, NO 20SEC SUM)\")"
      ]
     },
     "execution_count": 67,
     "metadata": {},
     "output_type": "execute_result"
    },
    {
     "data": {
      "image/png": "[encoded data removed]",
      "text/plain": [
       "<Figure size 720x720 with 1 Axes>"
      ]
     },
     "metadata": {
      "needs_background": "light"
     },
     "output_type": "display_data"
    }
   ],
   "source": [
    "plt.figure(figsize=(10,10))\n",
    "plt.plot(np.arange(0,1,0.0001),np.arange(0,1,0.0001),\"g\")\n",
    "plt.plot(FPR_array,TPR_array,\"k\")\n",
    "plt.xlabel(\"False Positive Rate\")\n",
    "plt.ylabel(\"True Positive Rate\")\n",
    "plt.savefig(pickleFolder+folder_extension+\"/roc.png\")\n",
    "plt.title(\"ROC curve (LINEAR REGRESSION, FISHER'S METHOD, NO 20SEC SUM)\")"
   ]
  },
  {
   "cell_type": "code",
   "execution_count": 22,
   "metadata": {},
   "outputs": [],
   "source": [
    "points=zip(FPR_array,TPR_array)"
   ]
  },
  {
   "cell_type": "code",
   "execution_count": 26,
   "metadata": {
    "collapsed": true
   },
   "outputs": [
    {
     "name": "stdout",
     "output_type": "stream",
     "text": [
      "(0.9997909022059818, 1.0)\n",
      "(0.9997909022059818, 1.0)\n",
      "(0.9996634035510925, 1.0)\n",
      "(0.9988703619176817, 1.0)\n",
      "(0.9943314098036266, 1.0)\n",
      "(0.9825097345223008, 1.0)\n",
      "(0.9557222671300818, 1.0)\n",
      "(0.9173808716318043, 1.0)\n",
      "(0.8477691560354038, 1.0)\n",
      "(0.7749113246855246, 1.0)\n",
      "(0.6983687822093477, 1.0)\n",
      "(0.6252865532268634, 1.0)\n",
      "(0.5600199917890867, 1.0)\n",
      "(0.5057157646986824, 1.0)\n",
      "(0.46150943107550213, 1.0)\n",
      "(0.42637845170733446, 1.0)\n",
      "(0.39343534925706536, 1.0)\n",
      "(0.3722272230027973, 1.0)\n",
      "(0.35524695214465485, 1.0)\n",
      "(0.3404494582582154, 1.0)\n",
      "(0.3253485175731396, 1.0)\n",
      "(0.3125247028643848, 1.0)\n",
      "(0.3038369445202353, 0.9166666666666666)\n",
      "(0.29451169290163987, 0.9166666666666666)\n",
      "(0.28301386420373265, 0.9166666666666666)\n",
      "(0.27351266444139016, 0.9166666666666666)\n",
      "(0.26507735343392125, 0.9166666666666666)\n",
      "(0.2586896708239728, 0.9166666666666666)\n",
      "(0.24985146406705408, 0.9166666666666666)\n",
      "(0.24114075596502457, 0.9166666666666666)\n",
      "(0.23327663893145928, 0.9166666666666666)\n",
      "(0.22440018257807381, 0.9166666666666666)\n",
      "(0.21721690836161678, 0.9166666666666666)\n",
      "(0.21082667577857053, 0.9166666666666666)\n",
      "(0.20303905793793875, 0.9166666666666666)\n",
      "(0.19322676145766662, 0.9166666666666666)\n",
      "(0.17825076945438226, 0.9166666666666666)\n",
      "(0.16202274066008604, 0.9166666666666666)\n",
      "(0.14442792628537768, 0.9166666666666666)\n",
      "(0.12815909792151692, 0.9166666666666666)\n",
      "(0.11275471043780488, 0.9166666666666666)\n",
      "(0.09748802150137316, 0.9166666666666666)\n",
      "(0.08653333707329387, 0.9166666666666666)\n",
      "(0.07687658895198655, 0.9166666666666666)\n",
      "(0.06965506513906278, 0.9166666666666666)\n",
      "(0.06365752841307525, 0.9166666666666666)\n",
      "(0.05892987828978404, 0.9166666666666666)\n",
      "(0.05403137996894133, 0.9166666666666666)\n",
      "(0.04983667422308695, 0.9166666666666666)\n",
      "(0.046363610863905384, 0.9166666666666666)\n",
      "(0.04369633900362351, 0.9166666666666666)\n",
      "(0.04129681431860894, 0.9166666666666666)\n",
      "(0.03914718699717718, 0.9166666666666666)\n",
      "(0.03698735978335429, 0.9166666666666666)\n",
      "(0.034661784318175445, 0.9166666666666666)\n",
      "(0.03267280530190406, 0.9166666666666666)\n",
      "(0.030495128276396683, 0.9166666666666666)\n",
      "(0.02835570084735606, 0.9166666666666666)\n",
      "(0.026101524628915164, 0.9166666666666666)\n",
      "(0.023885598006941025, 0.9166666666666666)\n",
      "(0.0218889690713763, 0.9166666666666666)\n",
      "(0.02049413378688855, 0.9166666666666666)\n",
      "(0.01931349624261464, 0.9166666666666666)\n",
      "(0.01832410668067452, 0.9166666666666666)\n",
      "(0.017225068275529692, 0.9166666666666666)\n",
      "(0.01622802879429622, 0.9166666666666666)\n",
      "(0.015325338317680749, 0.8888888888888888)\n",
      "(0.014430297760358628, 0.8888888888888888)\n",
      "(0.013333809328311587, 0.8888888888888888)\n",
      "(0.012270470546535734, 0.8888888888888888)\n",
      "(0.011194381899270963, 0.8888888888888888)\n",
      "(0.010273841610971004, 0.8888888888888888)\n",
      "(0.009406850757724506, 0.8888888888888888)\n",
      "(0.00858065947404255, 0.8888888888888888)\n",
      "(0.007881966845249782, 0.8888888888888888)\n",
      "(0.0070863752387412314, 0.8888888888888888)\n",
      "(0.006428482179513006, 0.8888888888888888)\n",
      "(0.005724689604524672, 0.8611111111111112)\n",
      "(0.005178995361598935, 0.8611111111111112)\n",
      "(0.004669000742042171, 0.8611111111111112)\n",
      "(0.004312004508352437, 0.8611111111111112)\n",
      "(0.0039575582477604865, 0.8611111111111112)\n",
      "(0.0036413615836352925, 0.8611111111111112)\n",
      "(0.00336596448907464, 0.8611111111111112)\n",
      "(0.0031135171523940424, 0.8611111111111112)\n",
      "(0.0029401189817447426, 0.8611111111111112)\n",
      "(0.002766720811095443, 0.8611111111111112)\n",
      "(0.0026315722369129007, 0.8611111111111112)\n",
      "(0.0025193734206104125, 0.8611111111111112)\n",
      "(0.00241737449669906, 0.8611111111111112)\n",
      "(0.0023230254920810585, 0.8611111111111112)\n",
      "(0.002203176756485219, 0.8611111111111112)\n",
      "(0.002068028182302677, 0.8611111111111112)\n",
      "(0.0019685792314891076, 0.8611111111111112)\n",
      "(0.0018359806304043492, 0.8611111111111112)\n",
      "(0.0016957321100262391, 0.8611111111111112)\n",
      "(0.0015376337779636426, 0.8611111111111112)\n",
      "(0.0013744354997054782, 0.8611111111111112)\n",
      "(0.0012596867103052062, 0.8611111111111112)\n",
      "(0.0011347380285137991, 0.8611111111111112)\n",
      "(0.000997039481233473, 0.8611111111111112)\n",
      "(0.0008720907994420659, 0.8611111111111112)\n",
      "(0.0007828417410196322, 0.8611111111111112)\n",
      "(0.000716542440477253, 0.8611111111111112)\n",
      "(0.000617093489663684, 0.8611111111111112)\n",
      "(0.0005558941353168724, 0.8611111111111112)\n",
      "(0.0004895948347744931, 0.8611111111111112)\n",
      "(0.00043349542662324915, 0.8611111111111112)\n",
      "(0.00038504593776535656, 0.8611111111111112)\n",
      "(0.0003467963412985993, 0.8611111111111112)\n",
      "(0.00032639655651632874, 0.8611111111111112)\n",
      "(0.0003059967717340582, 0.8611111111111112)\n",
      "(0.0002906969331473553, 0.8333333333333334)\n",
      "(0.0002600972559739495, 0.8333333333333334)\n",
      "(0.0002345975249961113, 0.8333333333333334)\n",
      "(0.0002218476595071922, 0.8333333333333334)\n",
      "(0.00020399784782270547, 0.8333333333333334)\n",
      "(0.00019634792852935403, 0.8333333333333334)\n",
      "(0.00019124798233378638, 0.8333333333333334)\n",
      "(0.00016829822445373202, 0.8333333333333334)\n",
      "(0.00016319827825816437, 0.8333333333333334)\n",
      "(0.0001529983858670291, 0.8333333333333334)\n",
      "(0.00014789843967146147, 0.8333333333333334)\n",
      "(0.00014024852037811, 0.8333333333333334)\n",
      "(0.00013259860108475857, 0.8055555555555556)\n",
      "(0.00012239870869362328, 0.8055555555555556)\n",
      "(0.000112198816302488, 0.8055555555555556)\n",
      "(0.00010709887010692038, 0.8055555555555556)\n",
      "(9.68989777157851e-05, 0.8055555555555556)\n",
      "(9.434900461800128e-05, 0.75)\n",
      "(8.414911222686601e-05, 0.75)\n",
      "(7.394921983573073e-05, 0.6944444444444444)\n",
      "(6.629930054237928e-05, 0.6944444444444444)\n",
      "(6.629930054237928e-05, 0.6944444444444444)\n",
      "(6.629930054237928e-05, 0.6944444444444444)\n",
      "(6.374932744459546e-05, 0.6944444444444444)\n",
      "(6.119935434681164e-05, 0.6944444444444444)\n",
      "(5.6099408151244e-05, 0.6944444444444444)\n",
      "(5.354943505346019e-05, 0.6388888888888888)\n",
      "(5.0999461955676366e-05, 0.6111111111111112)\n",
      "(5.0999461955676366e-05, 0.6111111111111112)\n",
      "(4.3349542662324915e-05, 0.6111111111111112)\n",
      "(4.3349542662324915e-05, 0.6111111111111112)\n",
      "(4.3349542662324915e-05, 0.6111111111111112)\n",
      "(4.079956956454109e-05, 0.6111111111111112)\n",
      "(3.5699623368973456e-05, 0.5555555555555556)\n",
      "(3.314965027118964e-05, 0.5555555555555556)\n",
      "(3.059967717340582e-05, 0.5555555555555556)\n",
      "(2.5499730977838183e-05, 0.5555555555555556)\n",
      "(2.5499730977838183e-05, 0.5555555555555556)\n",
      "(2.5499730977838183e-05, 0.5555555555555556)\n",
      "(2.5499730977838183e-05, 0.5555555555555556)\n",
      "(2.5499730977838183e-05, 0.5555555555555556)\n",
      "(2.5499730977838183e-05, 0.5555555555555556)\n",
      "(2.5499730977838183e-05, 0.5555555555555556)\n",
      "(2.5499730977838183e-05, 0.5555555555555556)\n",
      "(2.5499730977838183e-05, 0.5555555555555556)\n",
      "(2.5499730977838183e-05, 0.5555555555555556)\n",
      "(2.5499730977838183e-05, 0.5555555555555556)\n",
      "(2.2949757880054365e-05, 0.5555555555555556)\n",
      "(2.2949757880054365e-05, 0.5555555555555556)\n",
      "(1.7849811684486728e-05, 0.5555555555555556)\n",
      "(1.529983858670291e-05, 0.5555555555555556)\n",
      "(1.529983858670291e-05, 0.5555555555555556)\n",
      "(1.529983858670291e-05, 0.5555555555555556)\n",
      "(1.2749865488919092e-05, 0.5555555555555556)\n",
      "(1.2749865488919092e-05, 0.5277777777777778)\n",
      "(1.2749865488919092e-05, 0.5277777777777778)\n",
      "(1.2749865488919092e-05, 0.5)\n",
      "(1.2749865488919092e-05, 0.5)\n",
      "(1.2749865488919092e-05, 0.5)\n",
      "(1.2749865488919092e-05, 0.5)\n",
      "(1.2749865488919092e-05, 0.5)\n",
      "(1.2749865488919092e-05, 0.5)\n",
      "(1.2749865488919092e-05, 0.5)\n",
      "(1.2749865488919092e-05, 0.5)\n",
      "(1.2749865488919092e-05, 0.5)\n",
      "(1.2749865488919092e-05, 0.5)\n",
      "(1.2749865488919092e-05, 0.5)\n",
      "(1.2749865488919092e-05, 0.5)\n",
      "(1.2749865488919092e-05, 0.5)\n",
      "(1.2749865488919092e-05, 0.5)\n",
      "(1.2749865488919092e-05, 0.5)\n",
      "(1.2749865488919092e-05, 0.5)\n",
      "(1.2749865488919092e-05, 0.5)\n",
      "(1.2749865488919092e-05, 0.5)\n",
      "(1.2749865488919092e-05, 0.5)\n",
      "(1.2749865488919092e-05, 0.5)\n",
      "(1.2749865488919092e-05, 0.5)\n",
      "(1.2749865488919092e-05, 0.5)\n",
      "(1.2749865488919092e-05, 0.5)\n",
      "(1.2749865488919092e-05, 0.5)\n",
      "(1.2749865488919092e-05, 0.4444444444444444)\n",
      "(1.2749865488919092e-05, 0.4444444444444444)\n",
      "(1.2749865488919092e-05, 0.4444444444444444)\n",
      "(1.2749865488919092e-05, 0.4444444444444444)\n",
      "(1.2749865488919092e-05, 0.4444444444444444)\n",
      "(1.2749865488919092e-05, 0.4444444444444444)\n",
      "(1.2749865488919092e-05, 0.4444444444444444)\n",
      "(1.2749865488919092e-05, 0.4444444444444444)\n",
      "(1.2749865488919092e-05, 0.4444444444444444)\n",
      "(1.2749865488919092e-05, 0.4444444444444444)\n",
      "(1.2749865488919092e-05, 0.4444444444444444)\n",
      "(1.2749865488919092e-05, 0.4444444444444444)\n",
      "(1.2749865488919092e-05, 0.4444444444444444)\n",
      "(1.2749865488919092e-05, 0.4444444444444444)\n",
      "(1.2749865488919092e-05, 0.4166666666666667)\n",
      "(1.2749865488919092e-05, 0.3888888888888889)\n",
      "(1.2749865488919092e-05, 0.3888888888888889)\n",
      "(1.2749865488919092e-05, 0.3888888888888889)\n",
      "(1.2749865488919092e-05, 0.3888888888888889)\n",
      "(1.2749865488919092e-05, 0.3888888888888889)\n",
      "(1.2749865488919092e-05, 0.3888888888888889)\n",
      "(1.2749865488919092e-05, 0.3888888888888889)\n",
      "(1.2749865488919092e-05, 0.3888888888888889)\n",
      "(1.2749865488919092e-05, 0.3888888888888889)\n",
      "(1.2749865488919092e-05, 0.3888888888888889)\n",
      "(1.2749865488919092e-05, 0.3888888888888889)\n",
      "(1.2749865488919092e-05, 0.3888888888888889)\n",
      "(1.2749865488919092e-05, 0.3888888888888889)\n",
      "(1.2749865488919092e-05, 0.3888888888888889)\n",
      "(1.2749865488919092e-05, 0.3888888888888889)\n",
      "(1.2749865488919092e-05, 0.3888888888888889)\n",
      "(1.2749865488919092e-05, 0.3888888888888889)\n",
      "(1.2749865488919092e-05, 0.3888888888888889)\n",
      "(1.2749865488919092e-05, 0.3888888888888889)\n",
      "(1.0199892391135273e-05, 0.3888888888888889)\n",
      "(1.0199892391135273e-05, 0.3888888888888889)\n",
      "(1.0199892391135273e-05, 0.3888888888888889)\n",
      "(1.0199892391135273e-05, 0.3888888888888889)\n",
      "(1.0199892391135273e-05, 0.3888888888888889)\n",
      "(1.0199892391135273e-05, 0.3611111111111111)\n",
      "(1.0199892391135273e-05, 0.3611111111111111)\n",
      "(1.0199892391135273e-05, 0.3611111111111111)\n",
      "(1.0199892391135273e-05, 0.3333333333333333)\n",
      "(1.0199892391135273e-05, 0.3333333333333333)\n",
      "(1.0199892391135273e-05, 0.3055555555555556)\n",
      "(1.0199892391135273e-05, 0.3055555555555556)\n",
      "(1.0199892391135273e-05, 0.3055555555555556)\n",
      "(1.0199892391135273e-05, 0.2777777777777778)\n",
      "(1.0199892391135273e-05, 0.2777777777777778)\n",
      "(1.0199892391135273e-05, 0.2777777777777778)\n",
      "(1.0199892391135273e-05, 0.2777777777777778)\n",
      "(1.0199892391135273e-05, 0.2777777777777778)\n",
      "(7.649919293351455e-06, 0.2777777777777778)\n",
      "(7.649919293351455e-06, 0.25)\n",
      "(7.649919293351455e-06, 0.25)\n",
      "(5.099946195567637e-06, 0.25)\n",
      "(5.099946195567637e-06, 0.25)\n",
      "(5.099946195567637e-06, 0.25)\n",
      "(5.099946195567637e-06, 0.25)\n",
      "(5.099946195567637e-06, 0.25)\n",
      "(5.099946195567637e-06, 0.25)\n",
      "(5.099946195567637e-06, 0.25)\n",
      "(5.099946195567637e-06, 0.25)\n",
      "(5.099946195567637e-06, 0.25)\n",
      "(5.099946195567637e-06, 0.25)\n",
      "(5.099946195567637e-06, 0.25)\n",
      "(5.099946195567637e-06, 0.25)\n",
      "(5.099946195567637e-06, 0.25)\n",
      "(5.099946195567637e-06, 0.25)\n",
      "(2.5499730977838183e-06, 0.25)\n",
      "(2.5499730977838183e-06, 0.2222222222222222)\n",
      "(2.5499730977838183e-06, 0.19444444444444445)\n",
      "(2.5499730977838183e-06, 0.19444444444444445)\n",
      "(2.5499730977838183e-06, 0.19444444444444445)\n",
      "(2.5499730977838183e-06, 0.19444444444444445)\n",
      "(2.5499730977838183e-06, 0.19444444444444445)\n",
      "(0.0, 0.16666666666666666)\n",
      "(0.0, 0.16666666666666666)\n",
      "(0.0, 0.16666666666666666)\n",
      "(0.0, 0.16666666666666666)\n",
      "(0.0, 0.16666666666666666)\n",
      "(0.0, 0.16666666666666666)\n",
      "(0.0, 0.16666666666666666)\n",
      "(0.0, 0.16666666666666666)\n",
      "(0.0, 0.16666666666666666)\n",
      "(0.0, 0.16666666666666666)\n",
      "(0.0, 0.16666666666666666)\n",
      "(0.0, 0.16666666666666666)\n",
      "(0.0, 0.16666666666666666)\n",
      "(0.0, 0.16666666666666666)\n",
      "(0.0, 0.16666666666666666)\n",
      "(0.0, 0.16666666666666666)\n",
      "(0.0, 0.16666666666666666)\n",
      "(0.0, 0.16666666666666666)\n",
      "(0.0, 0.16666666666666666)\n",
      "(0.0, 0.16666666666666666)\n",
      "(0.0, 0.16666666666666666)\n",
      "(0.0, 0.1388888888888889)\n",
      "(0.0, 0.1111111111111111)\n",
      "(0.0, 0.1111111111111111)\n",
      "(0.0, 0.1111111111111111)\n",
      "(0.0, 0.1111111111111111)\n",
      "(0.0, 0.1111111111111111)\n",
      "(0.0, 0.1111111111111111)\n",
      "(0.0, 0.08333333333333333)\n",
      "(0.0, 0.08333333333333333)\n",
      "(0.0, 0.08333333333333333)\n",
      "(0.0, 0.08333333333333333)\n",
      "(0.0, 0.08333333333333333)\n",
      "(0.0, 0.08333333333333333)\n",
      "(0.0, 0.08333333333333333)\n",
      "(0.0, 0.08333333333333333)\n",
      "(0.0, 0.08333333333333333)\n",
      "(0.0, 0.08333333333333333)\n",
      "(0.0, 0.08333333333333333)\n",
      "(0.0, 0.08333333333333333)\n",
      "(0.0, 0.08333333333333333)\n",
      "(0.0, 0.08333333333333333)\n",
      "(0.0, 0.08333333333333333)\n",
      "(0.0, 0.08333333333333333)\n",
      "(0.0, 0.08333333333333333)\n",
      "(0.0, 0.08333333333333333)\n",
      "(0.0, 0.08333333333333333)\n",
      "(0.0, 0.08333333333333333)\n",
      "(0.0, 0.08333333333333333)\n",
      "(0.0, 0.08333333333333333)\n",
      "(0.0, 0.08333333333333333)\n",
      "(0.0, 0.08333333333333333)\n",
      "(0.0, 0.08333333333333333)\n",
      "(0.0, 0.08333333333333333)\n",
      "(0.0, 0.08333333333333333)\n",
      "(0.0, 0.08333333333333333)\n",
      "(0.0, 0.08333333333333333)\n",
      "(0.0, 0.08333333333333333)\n",
      "(0.0, 0.08333333333333333)\n",
      "(0.0, 0.08333333333333333)\n",
      "(0.0, 0.08333333333333333)\n",
      "(0.0, 0.05555555555555555)\n",
      "(0.0, 0.05555555555555555)\n",
      "(0.0, 0.05555555555555555)\n",
      "(0.0, 0.027777777777777776)\n",
      "(0.0, 0.027777777777777776)\n",
      "(0.0, 0.027777777777777776)\n",
      "(0.0, 0.027777777777777776)\n",
      "(0.0, 0.027777777777777776)\n",
      "(0.0, 0.027777777777777776)\n",
      "(0.0, 0.027777777777777776)\n",
      "(0.0, 0.027777777777777776)\n",
      "(0.0, 0.027777777777777776)\n",
      "(0.0, 0.027777777777777776)\n",
      "(0.0, 0.027777777777777776)\n",
      "(0.0, 0.027777777777777776)\n",
      "(0.0, 0.027777777777777776)\n",
      "(0.0, 0.027777777777777776)\n",
      "(0.0, 0.027777777777777776)\n",
      "(0.0, 0.027777777777777776)\n",
      "(0.0, 0.027777777777777776)\n",
      "(0.0, 0.027777777777777776)\n",
      "(0.0, 0.027777777777777776)\n",
      "(0.0, 0.027777777777777776)\n",
      "(0.0, 0.027777777777777776)\n",
      "(0.0, 0.027777777777777776)\n",
      "(0.0, 0.027777777777777776)\n",
      "(0.0, 0.027777777777777776)\n",
      "(0.0, 0.027777777777777776)\n",
      "(0.0, 0.027777777777777776)\n",
      "(0.0, 0.027777777777777776)\n",
      "(0.0, 0.027777777777777776)\n",
      "(0.0, 0.027777777777777776)\n",
      "(0.0, 0.027777777777777776)\n",
      "(0.0, 0.027777777777777776)\n",
      "(0.0, 0.027777777777777776)\n",
      "(0.0, 0.027777777777777776)\n",
      "(0.0, 0.027777777777777776)\n",
      "(0.0, 0.027777777777777776)\n",
      "(0.0, 0.027777777777777776)\n",
      "(0.0, 0.027777777777777776)\n",
      "(0.0, 0.027777777777777776)\n",
      "(0.0, 0.027777777777777776)\n",
      "(0.0, 0.027777777777777776)\n",
      "(0.0, 0.027777777777777776)\n",
      "(0.0, 0.027777777777777776)\n",
      "(0.0, 0.027777777777777776)\n",
      "(0.0, 0.027777777777777776)\n",
      "(0.0, 0.027777777777777776)\n",
      "(0.0, 0.027777777777777776)\n",
      "(0.0, 0.027777777777777776)\n",
      "(0.0, 0.027777777777777776)\n",
      "(0.0, 0.027777777777777776)\n",
      "(0.0, 0.027777777777777776)\n",
      "(0.0, 0.027777777777777776)\n",
      "(0.0, 0.027777777777777776)\n",
      "(0.0, 0.027777777777777776)\n",
      "(0.0, 0.027777777777777776)\n",
      "(0.0, 0.027777777777777776)\n",
      "(0.0, 0.0)\n",
      "(0.0, 0.0)\n",
      "(0.0, 0.0)\n",
      "(0.0, 0.0)\n",
      "(0.0, 0.0)\n",
      "(0.0, 0.0)\n",
      "(0.0, 0.0)\n",
      "(0.0, 0.0)\n",
      "(0.0, 0.0)\n",
      "(0.0, 0.0)\n",
      "(0.0, 0.0)\n",
      "(0.0, 0.0)\n",
      "(0.0, 0.0)\n"
     ]
    }
   ],
   "source": [
    "for x in points:\n",
    "    print(x)"
   ]
  },
  {
   "cell_type": "code",
   "execution_count": null,
   "metadata": {},
   "outputs": [],
   "source": []
  }
 ],
 "metadata": {
  "kernelspec": {
   "display_name": "Python 3",
   "language": "python",
   "name": "python3"
  },
  "language_info": {
   "codemirror_mode": {
    "name": "ipython",
    "version": 3
   },
   "file_extension": ".py",
   "mimetype": "text/x-python",
   "name": "python",
   "nbconvert_exporter": "python",
   "pygments_lexer": "ipython3",
   "version": "3.7.3"
  }
 },
 "nbformat": 4,
 "nbformat_minor": 2
}

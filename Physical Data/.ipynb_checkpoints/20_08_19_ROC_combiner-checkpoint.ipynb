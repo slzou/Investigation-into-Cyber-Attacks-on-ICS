{
 "cells": [
  {
   "cell_type": "markdown",
   "metadata": {},
   "source": [
    "# Set Up Data"
   ]
  },
  {
   "cell_type": "code",
   "execution_count": null,
   "metadata": {},
   "outputs": [],
   "source": [
    "# import the required packages and preliminaries\n",
    "import csv\n",
    "import pandas as pd\n",
    "import matplotlib.pyplot as plt\n",
    "plt.rcParams.update({'font.size': 10})\n",
    "import numpy as np\n",
    "from sklearn import linear_model\n",
    "from sklearn import tree\n",
    "import math\n",
    "import os\n",
    "import time\n",
    "from IPython.display import clear_output\n",
    "import pickle"
   ]
  },
  {
   "cell_type": "code",
   "execution_count": null,
   "metadata": {},
   "outputs": [],
   "source": [
    "path=\"/Pickles\"\n",
    "pickleFolder=os.getcwd()+path"
   ]
  },
  {
   "cell_type": "code",
   "execution_count": null,
   "metadata": {},
   "outputs": [],
   "source": [
    "dataAtck=pd.read_pickle(pickleFolder+\"/BaseAttackDataframe.pkl\")\n",
    "dataNorm=pd.read_pickle(pickleFolder+\"/BaseNormalDataframe.pkl\")"
   ]
  },
  {
   "cell_type": "markdown",
   "metadata": {},
   "source": [
    "# New Data Transformations & Fitting Models"
   ]
  },
  {
   "cell_type": "code",
   "execution_count": null,
   "metadata": {},
   "outputs": [],
   "source": [
    "actuator_list=[\"MV101\",\"P101\",\"P102\",\"MV201\",\"P201\",\"P202\",\"P203\",\"P204\",\"P205\",\"P206\",\"MV301\",\"MV302\",\"MV303\",\"MV304\",\"P301\",\"P302\",\"P401\",\"P402\",\"P403\",\"P404\",\"P501\",\"P502\",\"P601\",\"P602\",\"P603\"]"
   ]
  },
  {
   "cell_type": "code",
   "execution_count": null,
   "metadata": {},
   "outputs": [],
   "source": [
    "# General regression dataframe pickles\n",
    "\n",
    "dataAtck_reg_adpt=pd.read_pickle(pickleFolder+\"/GeneralRegressionDataframeAttack.pkl\")\n",
    "dataNorm_reg_adpt=pd.read_pickle(pickleFolder+\"/GeneralRegressionDataframeNormal.pkl\")"
   ]
  },
  {
   "cell_type": "code",
   "execution_count": null,
   "metadata": {},
   "outputs": [],
   "source": [
    "# Linear regression dataframe pickles\n",
    "\n",
    "AY_linreg=pd.read_pickle(pickleFolder+\"/LinearRegressionDataframeAttack.pkl\")\n",
    "Y_linreg=pd.read_pickle(pickleFolder+\"/LinearRegressionDataframeNormal.pkl\")"
   ]
  },
  {
   "cell_type": "code",
   "execution_count": null,
   "metadata": {},
   "outputs": [],
   "source": [
    "# Linear Regressors pickle\n",
    "\n",
    "outfile=open(pickleFolder+\"/LinearRegressors\",\"rb\")\n",
    "d_lin=pickle.load(outfile)"
   ]
  },
  {
   "cell_type": "markdown",
   "metadata": {},
   "source": [
    "# Prediction Lists and Histograms"
   ]
  },
  {
   "cell_type": "code",
   "execution_count": null,
   "metadata": {},
   "outputs": [],
   "source": [
    "normalIndex=list(dataAtck.iloc[list(dataAtck[\"Normal/Attack\"]==\"Normal\")].index)\n",
    "attackIndex=list(dataAtck.iloc[list(dataAtck[\"Normal/Attack\"]!=\"Normal\")].index)"
   ]
  },
  {
   "cell_type": "code",
   "execution_count": null,
   "metadata": {},
   "outputs": [],
   "source": [
    "# Normal and Attack Prediction-Observation difference lists pickles\n",
    "\n",
    "infile=open(pickleFolder+\"/NormalPredictionDifferenceList\",\"rb\")\n",
    "difference_list=pickle.load(infile)\n",
    "infile=open(pickleFolder+\"/AttackPredictionDifferenceList\",\"rb\")\n",
    "attack_difference_list=pickle.load(infile)"
   ]
  },
  {
   "cell_type": "code",
   "execution_count": null,
   "metadata": {},
   "outputs": [],
   "source": [
    "# Normal Histogram p-Value dataframe pickle\n",
    "\n",
    "pvalue_data=pd.read_pickle(pickleFolder+\"/histogramPValueDataframe.pkl\")"
   ]
  },
  {
   "cell_type": "markdown",
   "metadata": {},
   "source": [
    "#### Generate attack_difference list (tick)\n",
    "#### Reference to histogram data (tick)\n",
    "#### Gain P-value dataset (tick)\n",
    "#### Combine with Fisher or Simes'\n",
    "#### Add previous 20 if we have tail\n",
    "#### Generate graph and roc curve"
   ]
  },
  {
   "cell_type": "markdown",
   "metadata": {},
   "source": [
    "# Finding P-Values"
   ]
  },
  {
   "cell_type": "code",
   "execution_count": null,
   "metadata": {},
   "outputs": [],
   "source": [
    "# Attack p-Value Dataset pickle\n",
    "\n",
    "#attack_pvalues=pd.read_pickle(pickleFolder+\"/attackPValueDataframe.pkl\")\n",
    "attack_diff_data=pd.DataFrame([],columns=actuator_list).copy()\n",
    "for col in attack_diff_data:\n",
    "    attack_diff_data[col]=attack_difference_list[\"diff_{0}\".format(col)]\n",
    "attack_diff_data.to_pickle(pickleFolder+\"/attackDiffData.pkl\")"
   ]
  },
  {
   "cell_type": "code",
   "execution_count": null,
   "metadata": {},
   "outputs": [],
   "source": [
    "bin_ref_data=((attack_diff_data+4)/0.05).copy()\n",
    "attack_pvalues=bin_ref_data.copy()\n",
    "#rowVec=[]\n",
    "for col in bin_ref_data:\n",
    "    print(col)\n",
    "    L=np.array([math.floor(x) for x in bin_ref_data[col]])\n",
    "    for i in range(0,len(bin_ref_data)):\n",
    "        try:\n",
    "            if pvalue_data[col][L[i]]!=0:\n",
    "                attack_pvalues[col][i]=pvalue_data[col][L[i]]\n",
    "            else:\n",
    "                attack_pvalues[col][i]=0.000001\n",
    "        except:\n",
    "            attack_pvalues[col][i]=0.000001\n",
    "    #i=19\n",
    "    #try:\n",
    "    #    rowVec.append(pvalue_data[col][L[i]])\n",
    "    #except:\n",
    "    #    rowVec.append(0.00001)\n",
    "attack_pvalues.to_pickle(pickleFolder+\"/attackPvals.pkl\")"
   ]
  },
  {
   "cell_type": "code",
   "execution_count": null,
   "metadata": {},
   "outputs": [],
   "source": []
  },
  {
   "cell_type": "code",
   "execution_count": null,
   "metadata": {},
   "outputs": [],
   "source": []
  },
  {
   "cell_type": "code",
   "execution_count": null,
   "metadata": {},
   "outputs": [],
   "source": []
  },
  {
   "cell_type": "code",
   "execution_count": null,
   "metadata": {},
   "outputs": [],
   "source": []
  },
  {
   "cell_type": "code",
   "execution_count": null,
   "metadata": {},
   "outputs": [],
   "source": [
    "path=\"/Pickles\"\n",
    "pickleFolder=os.getcwd()+path\n",
    "dataAtck=pd.read_pickle(pickleFolder+\"/BaseAttackDataframe.pkl\")\n",
    "dataNorm=pd.read_pickle(pickleFolder+\"/BaseNormalDataframe.pkl\")\n",
    "actuator_list=[\"MV101\",\"P101\",\"P102\",\"MV201\",\"P201\",\"P202\",\"P203\",\"P204\",\"P205\",\"P206\",\"MV301\",\"MV302\",\"MV303\",\"MV304\",\"P301\",\"P302\",\"P401\",\"P402\",\"P403\",\"P404\",\"P501\",\"P502\",\"P601\",\"P602\",\"P603\"]\n",
    "dataAtck_reg_adpt=pd.read_pickle(pickleFolder+\"/GeneralRegressionDataframeAttack.pkl\")\n",
    "dataNorm_reg_adpt=pd.read_pickle(pickleFolder+\"/GeneralRegressionDataframeNormal.pkl\")\n",
    "AY_linreg=pd.read_pickle(pickleFolder+\"/LinearRegressionDataframeAttack.pkl\")\n",
    "Y_linreg=pd.read_pickle(pickleFolder+\"/LinearRegressionDataframeNormal.pkl\")\n",
    "outfile=open(pickleFolder+\"/LinearRegressors\",\"rb\")\n",
    "d_lin=pickle.load(outfile)\n",
    "normalIndex=list(dataAtck.iloc[list(dataAtck[\"Normal/Attack\"]==\"Normal\")].index)\n",
    "attackIndex=list(dataAtck.iloc[list(dataAtck[\"Normal/Attack\"]!=\"Normal\")].index)\n",
    "infile=open(pickleFolder+\"/NormalPredictionDifferenceList\",\"rb\")\n",
    "difference_list=pickle.load(infile)\n",
    "infile=open(pickleFolder+\"/AttackPredictionDifferenceList\",\"rb\")\n",
    "attack_difference_list=pickle.load(infile)\n",
    "pvalue_data=pd.read_pickle(pickleFolder+\"/histogramPValueDataframe.pkl\")\n",
    "attack_diff_data=pd.read_pickle(pickleFolder+\"/attackDiffData.pkl\")\n",
    "with open(pickleFolder+\"/attack_pvalues_logistic_20_fishers(1)(1).pickle\", \"rb\") as infile:\n",
    "    attackPvalKate=pickle.load(infile)\n",
    "attack_pvalues=attackPvalKate.copy()"
   ]
  },
  {
   "cell_type": "code",
   "execution_count": null,
   "metadata": {},
   "outputs": [],
   "source": [
    "#twentySecondSum=False\n",
    "#fishers=False"
   ]
  },
  {
   "cell_type": "markdown",
   "metadata": {},
   "source": [
    "#### Fisher's Method"
   ]
  },
  {
   "cell_type": "code",
   "execution_count": null,
   "metadata": {},
   "outputs": [],
   "source": [
    "#if fishers==True:\n",
    "#    combinedValue=np.array([])\n",
    "#    for x in attack_pvalues.values:\n",
    "#        combinedValue=np.hstack((combinedValue,sum(np.log(x))))\n",
    "#    attack_pvalues[\"Combined\"]=-2*combinedValue"
   ]
  },
  {
   "cell_type": "markdown",
   "metadata": {},
   "source": [
    "#### Simes' Method"
   ]
  },
  {
   "cell_type": "code",
   "execution_count": null,
   "metadata": {},
   "outputs": [],
   "source": [
    "#if fishers==False:\n",
    "#    mmyy=np.array([])\n",
    "#    for x in range(1,len(attack_pvalues.values[1])+1):\n",
    "#        mmyy=np.hstack((mmyy,np.array([1/x])))\n",
    "#\n",
    "#    min_list=[]\n",
    "#    for x in attack_pvalues.values:\n",
    "#        min_list.append(-1*np.log(min(np.multiply(mmyy,np.sort(x)))))\n",
    "#    attack_pvalues[\"Combined\"]=np.array(min_list)"
   ]
  },
  {
   "cell_type": "markdown",
   "metadata": {},
   "source": [
    "#### Twenty Second Tail"
   ]
  },
  {
   "cell_type": "code",
   "execution_count": null,
   "metadata": {},
   "outputs": [],
   "source": [
    "pvalue_dataframe_combineTime=attack_pvalues.copy()\n",
    "#if twentySecondSum==True:\n",
    "#    if fishers==False:\n",
    "#        for t in range(0,len(attack_pvalues[\"Combined\"])):\n",
    "#            pvalue_dataframe_combineTime[\"Combined\"][t]=max(attack_pvalues[\"Combined\"][max(0,t-19):t+1])\n",
    "#    if fishers==True:\n",
    "#        for t in range(0,len(attack_pvalues[\"Combined\"])):\n",
    "#            pvalue_dataframe_combineTime[\"Combined\"][t]=sum(attack_pvalues[\"Combined\"][max(0,t-19):t+1])"
   ]
  },
  {
   "cell_type": "markdown",
   "metadata": {},
   "source": [
    "# ROC curve"
   ]
  },
  {
   "cell_type": "code",
   "execution_count": null,
   "metadata": {},
   "outputs": [],
   "source": [
    "h=open(\"/home/sharding/Documents/SummerProject/Data/AttackList_Indexed.csv\",\"r+\")\n",
    "file_atcklist=csv.reader(h)\n",
    "top=next(file_atcklist)\n",
    "attack_list=pd.DataFrame(file_atcklist)"
   ]
  },
  {
   "cell_type": "markdown",
   "metadata": {},
   "source": [
    "Create attack time bins (with a tail)"
   ]
  },
  {
   "cell_type": "code",
   "execution_count": null,
   "metadata": {},
   "outputs": [],
   "source": [
    "tail=120\n",
    "base=time.strptime('12/28/2015 10:00:00', '%m/%d/%Y %H:%M:%S')\n",
    "attack_start_times=[]\n",
    "for t in range(0,len(attack_list)):\n",
    "    attack_start_times.append(int(time.mktime(time.strptime(attack_list.iloc[t][1], '%m/%d/%Y %H:%M:%S'))-time.mktime(base)))\n",
    "attack_start_times=np.array(attack_start_times)\n",
    "attack_end_times=[]\n",
    "for t in range(0,len(attack_list)):\n",
    "    attack_end_times.append(int(time.mktime(time.strptime(attack_list.iloc[t][2], '%m/%d/%Y %H:%M:%S'))-time.mktime(base)+tail))\n",
    "attack_end_times=np.array(attack_end_times)\n",
    "attack_bins=np.transpose(np.vstack((attack_start_times,attack_end_times)))"
   ]
  },
  {
   "cell_type": "markdown",
   "metadata": {},
   "source": [
    "Give each combined pvalue a time signature"
   ]
  },
  {
   "cell_type": "code",
   "execution_count": null,
   "metadata": {},
   "outputs": [],
   "source": [
    "pvalue_dataframe_combineTime[\"Time\"]=np.array([int(time.mktime(time.strptime(t, \" %d/%m/%Y %I:%M:%S %p\"))-time.mktime(base)) for t in np.array(dataAtck[\"Timestamp\"][1:])])"
   ]
  },
  {
   "cell_type": "markdown",
   "metadata": {},
   "source": [
    "Load in the dataset of times where no attacks took place"
   ]
  },
  {
   "cell_type": "code",
   "execution_count": null,
   "metadata": {},
   "outputs": [],
   "source": [
    "no_attack_true_false=(dataAtck[\"Normal/Attack\"]==\"Normal\")[:-1]\n",
    "no_attack_true_false[73750:74600]=np.repeat(True,len(no_attack_true_false[73750:74600]))"
   ]
  },
  {
   "cell_type": "code",
   "execution_count": null,
   "metadata": {},
   "outputs": [],
   "source": [
    "#no_attack_dataset=pd.read_pickle(pickleFolder+\"/NoAttackDataset.pkl\")\n",
    "no_attack_dataset=pvalue_dataframe_combineTime[no_attack_true_false]"
   ]
  },
  {
   "cell_type": "code",
   "execution_count": null,
   "metadata": {},
   "outputs": [],
   "source": [
    "max(np.array(pvalue_dataframe_combineTime[\"Combined\"]))"
   ]
  },
  {
   "cell_type": "markdown",
   "metadata": {},
   "source": [
    "Create confusion matrices for all detection cut-off values, p"
   ]
  },
  {
   "cell_type": "code",
   "execution_count": null,
   "metadata": {},
   "outputs": [],
   "source": [
    "TP_array=np.array([])\n",
    "FN_array=np.array([])\n",
    "FP_array=np.array([])\n",
    "TN_array=np.array([])\n",
    "\n",
    "no_attack_time_list=range(0,np.array(pvalue_dataframe_combineTime[\"Time\"])[-1]+1)\n",
    "for x in attack_bins:\n",
    "    no_attack_time_list=[t for t in no_attack_time_list if t<x[0] or t>x[1]]\n",
    "num_no_attacks=len(no_attack_time_list)\n",
    "non_detected_at_all={}\n",
    "for p in np.arange(0,6000,10):\n",
    "    TP=0\n",
    "    FN=0\n",
    "    non_detected_array=np.array([])\n",
    "    for x in attack_bins:\n",
    "        bin_dataset=pvalue_dataframe_combineTime[\"Combined\"][np.multiply(np.array(pvalue_dataframe_combineTime[\"Time\"]>=x[0]),np.array(pvalue_dataframe_combineTime[\"Time\"]<=x[1]))]\n",
    "        if all(bin_dataset<p)==True:\n",
    "            FN=FN+1\n",
    "            non_detected_array=np.hstack((non_detected_array,x))\n",
    "        else:\n",
    "            TP=TP+1\n",
    "    non_detected_at_all[\"p={0}\".format(p)]=non_detected_array\n",
    "    TP_array=np.hstack((TP_array,TP))\n",
    "    FN_array=np.hstack((FN_array,FN))\n",
    "    \n",
    "    no_attack_pvalues=no_attack_dataset[\"Combined\"]\n",
    "    FP=sum(np.array(no_attack_pvalues>p))\n",
    "    TN=num_no_attacks-FP\n",
    "    FP_array=np.hstack((FP_array,FP))\n",
    "    TN_array=np.hstack((TN_array,TN))\n",
    "    clear_output(wait=True)\n",
    "    print(p)"
   ]
  },
  {
   "cell_type": "code",
   "execution_count": null,
   "metadata": {},
   "outputs": [],
   "source": [
    "with open(pickleFolder+\"/notDetectedAttacks.pkl\",\"rb\") as outfile:\n",
    "    not_detected=pickle.load(outfile)"
   ]
  },
  {
   "cell_type": "code",
   "execution_count": null,
   "metadata": {},
   "outputs": [],
   "source": [
    "conditionPositive=TP_array+FN_array\n",
    "conditionNegative=TN_array+FP_array"
   ]
  },
  {
   "cell_type": "code",
   "execution_count": null,
   "metadata": {},
   "outputs": [],
   "source": [
    "TPR_array=TP_array/conditionPositive\n",
    "FPR_array=FP_array/conditionNegative"
   ]
  },
  {
   "cell_type": "code",
   "execution_count": null,
   "metadata": {},
   "outputs": [],
   "source": [
    "folder_extension=\"/LOGISTIC/FISHER/20sTAIL\""
   ]
  },
  {
   "cell_type": "code",
   "execution_count": null,
   "metadata": {},
   "outputs": [],
   "source": [
    "with open(pickleFolder+folder_extension+'/FPR_array.pkl', 'wb') as handle:\n",
    "    pickle.dump(FPR_array,handle)\n",
    "with open(pickleFolder+folder_extension+'/TPR_array.pkl', 'wb') as handle:\n",
    "    pickle.dump(TPR_array,handle)"
   ]
  },
  {
   "cell_type": "code",
   "execution_count": null,
   "metadata": {
    "scrolled": false
   },
   "outputs": [],
   "source": [
    "plt.rc('axes', titlesize=25)     # fontsize of the axes title\n",
    "plt.rc('axes', labelsize=25)    # fontsize of the x and y labels\n",
    "plt.rc('figure', titlesize=14)\n",
    "plt.rc('xtick', labelsize=22)    # fontsize of the tick labels\n",
    "plt.rc('ytick', labelsize=25)\n",
    "\n",
    "plt.figure(figsize=(20,10))\n",
    "for m in attack_start_times:\n",
    "    plt.axvline(x=m,color=\"r\",linestyle=\"-\")\n",
    "\n",
    "twenty_sec=np.arange(0,no_attack_time_list[-1],20)\n",
    "plt.plot(pvalue_dataframe_combineTime[\"Time\"],pvalue_dataframe_combineTime[\"Combined\"],\".b\")\n",
    "plt.xlabel(\"Timestep (red lines = attack start times)\")\n",
    "plt.ylabel(\"Combined P-Value\")\n",
    "plt.title(\"P-value Graph Logistic/Fisher's (with 20s tail)\")\n",
    "plt.savefig(pickleFolder+folder_extension+\"/graph.png\")\n",
    "plt.show()\n",
    "\n",
    "plt.figure(figsize=(20,10))\n",
    "for m in attack_start_times:\n",
    "    plt.axvline(x=m,color=\"r\",linestyle=\"-\")\n",
    "for m in attack_end_times:\n",
    "    plt.axvline(x=m,color=\"g\",linestyle=\"-\")\n",
    "twenty_sec=np.arange(0,no_attack_time_list[-1],20)\n",
    "plt.plot(pvalue_dataframe_combineTime[\"Time\"],pvalue_dataframe_combineTime[\"Combined\"],\".b\")\n",
    "plt.xlabel(\"Timestep (red = attack start times, green = attack end times)\")\n",
    "plt.ylabel(\"Combined P-Value\")\n",
    "plt.title(\"P-value Graph Logistic/Fisher's (with 20s tail)\")\n",
    "plt.savefig(pickleFolder+folder_extension+\"/graphgreen.png\")\n",
    "plt.show()\n",
    "\n",
    "plt.figure(figsize=(20,10))\n",
    "for m in pvalue_dataframe_combineTime[\"Time\"][np.array([not(x) for x in no_attack_true_false])]:\n",
    "    plt.axvline(x=m,color=\"r\",linestyle=\"-\")\n",
    "twenty_sec=np.arange(0,no_attack_time_list[-1],20)\n",
    "plt.plot(pvalue_dataframe_combineTime[\"Time\"],pvalue_dataframe_combineTime[\"Combined\"],\".b\")\n",
    "plt.xlabel(\"Timestep (red lines = attack times)\")\n",
    "plt.ylabel(\"Combined P-Value\")\n",
    "plt.title(\"P-value Graph Logistic/Fisher's (with 20s tail)\")\n",
    "plt.savefig(pickleFolder+folder_extension+\"/graphlefthand.png\")\n",
    "plt.show()"
   ]
  },
  {
   "cell_type": "code",
   "execution_count": null,
   "metadata": {},
   "outputs": [],
   "source": [
    "plt.rc('axes', titlesize=20)     # fontsize of the axes title\n",
    "plt.rc('axes', labelsize=20)    # fontsize of the x and y labels\n",
    "plt.rc('figure', titlesize=10)\n",
    "\n",
    "plt.figure(figsize=(10,10))\n",
    "plt.plot(np.arange(0,1,0.0001),np.arange(0,1,0.0001),\"g\")\n",
    "plt.plot(FPR_array,TPR_array,\"k\")\n",
    "plt.xlabel(\"False Positive Rate\")\n",
    "plt.ylabel(\"True Positive Rate\")\n",
    "plt.savefig(pickleFolder+folder_extension+\"/roc.png\")\n",
    "plt.title(\"ROC curve Logistic/Fisher's (with 20s tail)\")"
   ]
  },
  {
   "cell_type": "code",
   "execution_count": null,
   "metadata": {},
   "outputs": [],
   "source": []
  },
  {
   "cell_type": "code",
   "execution_count": null,
   "metadata": {},
   "outputs": [],
   "source": []
  },
  {
   "cell_type": "code",
   "execution_count": null,
   "metadata": {},
   "outputs": [],
   "source": []
  },
  {
   "cell_type": "markdown",
   "metadata": {},
   "source": [
    "# ROC Combining"
   ]
  },
  {
   "cell_type": "code",
   "execution_count": 1,
   "metadata": {},
   "outputs": [],
   "source": [
    "import csv\n",
    "import pandas as pd\n",
    "import matplotlib.pyplot as plt\n",
    "plt.rcParams.update({'font.size': 10})\n",
    "import numpy as np\n",
    "from sklearn import linear_model\n",
    "from sklearn import tree\n",
    "import math\n",
    "import os\n",
    "import time\n",
    "from IPython.display import clear_output\n",
    "import pickle"
   ]
  },
  {
   "cell_type": "code",
   "execution_count": 2,
   "metadata": {},
   "outputs": [],
   "source": [
    "path=\"/Pickles\"\n",
    "pickleFolder=os.getcwd()+path"
   ]
  },
  {
   "cell_type": "code",
   "execution_count": 3,
   "metadata": {},
   "outputs": [],
   "source": [
    "model=[\"LINEAR\",\"LOGISTIC\"]\n",
    "method=[\"FISHER\",\"SIMES\"]\n",
    "tail=[\"NOTAIL\",\"20sTAIL\"]\n",
    "ROC_info = {}\n",
    "for i in model:\n",
    "    for j in method:\n",
    "        for k in tail:\n",
    "            with open(pickleFolder+\"/\"+i+\"/\"+j+\"/\"+k+\"/FPR_array.pkl\",\"rb\") as infile:\n",
    "                FPR=pickle.load(infile)\n",
    "            with open(pickleFolder+\"/\"+i+\"/\"+j+\"/\"+k+\"/TPR_array.pkl\",\"rb\") as infile:\n",
    "                TPR=pickle.load(infile)\n",
    "            ROC_info[\"{0}_{1}_{2}_FPR\".format(i,j,k)] = FPR\n",
    "            ROC_info[\"{0}_{1}_{2}_TPR\".format(i,j,k)] = TPR"
   ]
  },
  {
   "cell_type": "code",
   "execution_count": 9,
   "metadata": {},
   "outputs": [
    {
     "data": {
      "text/plain": [
       "Text(0.5, 1, 'Comparison of ROC curves with 20s tail')"
      ]
     },
     "execution_count": 9,
     "metadata": {},
     "output_type": "execute_result"
    },
    {
     "data": {
      "image/png": "[encoded data removed]",
      "text/plain": [
       "<Figure size 720x720 with 1 Axes>"
      ]
     },
     "metadata": {
      "needs_background": "light"
     },
     "output_type": "display_data"
    }
   ],
   "source": [
    "plt.rc('axes', titlesize=20)     # fontsize of the axes title\n",
    "plt.rc('axes', labelsize=20)    # fontsize of the x and y labels\n",
    "plt.rc('figure', titlesize=10)\n",
    "\n",
    "plt.figure(figsize=(10,10))\n",
    "plt.plot(np.arange(0,1,0.0001),np.arange(0,1,0.0001),\"g\")\n",
    "plt.plot(ROC_info[\"LOGISTIC_FISHER_20sTAIL_FPR\"],ROC_info[\"LOGISTIC_FISHER_20sTAIL_TPR\"],\"b\",label=\"Fisher's Logistic\")\n",
    "plt.plot(ROC_info[\"LOGISTIC_SIMES_20sTAIL_FPR\"],ROC_info[\"LOGISTIC_SIMES_20sTAIL_TPR\"],\"r\",label=\"Simes' Logistic\")\n",
    "plt.plot(ROC_info[\"LINEAR_FISHER_20sTAIL_FPR\"],ROC_info[\"LINEAR_FISHER_20sTAIL_TPR\"],\"-.b\",label=\"Fisher's Linear\")\n",
    "plt.plot(ROC_info[\"LINEAR_SIMES_20sTAIL_FPR\"],ROC_info[\"LINEAR_SIMES_20sTAIL_TPR\"],\"-.r\",label=\"Simes' Linear\")\n",
    "plt.xlabel(\"False Positive Rate\")\n",
    "plt.ylabel(\"True Positive Rate\")\n",
    "plt.legend()\n",
    "plt.savefig(pickleFolder+\"/Pics & Graphs/ROC Comparisons/tail.png\")\n",
    "plt.title(\"Comparison of ROC curves with 20s tail\")"
   ]
  },
  {
   "cell_type": "code",
   "execution_count": 4,
   "metadata": {},
   "outputs": [
    {
     "data": {
      "text/plain": [
       "[<matplotlib.lines.Line2D at 0x7f68ecb82668>]"
      ]
     },
     "execution_count": 4,
     "metadata": {},
     "output_type": "execute_result"
    },
    {
     "data": {
      "image/png": "[encoded data removed]",
      "text/plain": [
       "<Figure size 432x288 with 1 Axes>"
      ]
     },
     "metadata": {
      "needs_background": "light"
     },
     "output_type": "display_data"
    }
   ],
   "source": [
    "plt.plot(ROC_info[\"LINEAR_SIMES_NOTAIL_FPR\"],ROC_info[\"LINEAR_SIMES_NOTAIL_TPR\"],\"k\")"
   ]
  },
  {
   "cell_type": "code",
   "execution_count": null,
   "metadata": {},
   "outputs": [],
   "source": []
  },
  {
   "cell_type": "code",
   "execution_count": null,
   "metadata": {},
   "outputs": [],
   "source": []
  },
  {
   "cell_type": "code",
   "execution_count": null,
   "metadata": {},
   "outputs": [],
   "source": [
    "a=[[1,2],[5,6]]\n",
    "b=[5,6,7]\n",
    "d=[1,2,3]"
   ]
  },
  {
   "cell_type": "code",
   "execution_count": null,
   "metadata": {},
   "outputs": [],
   "source": [
    "c=[(i,j) for i,j in a]"
   ]
  },
  {
   "cell_type": "code",
   "execution_count": null,
   "metadata": {},
   "outputs": [],
   "source": [
    "c"
   ]
  },
  {
   "cell_type": "code",
   "execution_count": null,
   "metadata": {},
   "outputs": [],
   "source": [
    "e=zip(b,d)"
   ]
  },
  {
   "cell_type": "code",
   "execution_count": null,
   "metadata": {},
   "outputs": [],
   "source": [
    "e"
   ]
  },
  {
   "cell_type": "code",
   "execution_count": null,
   "metadata": {},
   "outputs": [],
   "source": [
    "for i in e:\n",
    "    print(i)"
   ]
  },
  {
   "cell_type": "code",
   "execution_count": null,
   "metadata": {},
   "outputs": [],
   "source": []
  }
 ],
 "metadata": {
  "kernelspec": {
   "display_name": "Python 3",
   "language": "python",
   "name": "python3"
  },
  "language_info": {
   "codemirror_mode": {
    "name": "ipython",
    "version": 3
   },
   "file_extension": ".py",
   "mimetype": "text/x-python",
   "name": "python",
   "nbconvert_exporter": "python",
   "pygments_lexer": "ipython3",
   "version": "3.7.3"
  }
 },
 "nbformat": 4,
 "nbformat_minor": 2
}
